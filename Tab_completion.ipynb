{
 "cells": [
  {
   "cell_type": "markdown",
   "id": "54cf7270-6e50-4289-9a7f-ce31b05cf185",
   "metadata": {},
   "source": [
    "# Tab Completion \n",
    "\n",
    "Tab completion can be used while using the Tab key to search the namespace of any variable (Object, function, etc.) matching the characters you have typed so far.\n",
    "\n",
    "Example:\n",
    "\n",
    "In [1]: an_apple = 27\n",
    "\n",
    "In [2]: an_example = 42 \n",
    "\n",
    "in [3]: an **THEN** press **Tab**\n",
    "\n",
    "\n",
    "# Results\n",
    "\n",
    "\n",
    "an_apple     an_example    any"
   ]
  },
  {
   "cell_type": "code",
   "execution_count": 18,
   "id": "ca534824-08f5-49f3-aac9-e0a5873a3a4e",
   "metadata": {},
   "outputs": [],
   "source": [
    "b = [1, 2, 3]\n"
   ]
  },
  {
   "cell_type": "markdown",
   "id": "bf1435ef-00c1-499d-be83-60b713af3bfc",
   "metadata": {},
   "source": [
    "press **b.** then **Tab** key returns \n",
    "\n",
    "\n",
    "The result of the above\n",
    "\n",
    "append()                     reverse()                 sort()           \n",
    "\n",
    "count()                      clear()                   pop()\n",
    "\n",
    "Insert()                     extend()                  sort()\n",
    "\n",
    "copy()                       index()                   remove()"
   ]
  },
  {
   "cell_type": "code",
   "execution_count": 29,
   "id": "df5fc9c4-60ce-4c63-b5d0-808432d535b5",
   "metadata": {},
   "outputs": [],
   "source": [
    "#The same is true for module when using tab completion\n",
    "import datetime \n"
   ]
  },
  {
   "cell_type": "code",
   "execution_count": 31,
   "id": "ba247871-b0ff-4020-82e8-555844440123",
   "metadata": {},
   "outputs": [],
   "source": [
    "def func_with_keyword(abra=1, abbra=2, abbbra=3):\n",
    "    return abra, abbra,  abbra"
   ]
  },
  {
   "cell_type": "markdown",
   "id": "743ddb58-2d8d-4e1d-b22a-8b2483640b40",
   "metadata": {},
   "source": [
    "# Introspection \n",
    "\n",
    "Using the question mark (?) before or after a variable will display some general information about the object. \n",
    "\n",
    "See example below"
   ]
  },
  {
   "cell_type": "code",
   "execution_count": 34,
   "id": "c323d6c1-fe8f-4d54-a0bf-d2b760f65baf",
   "metadata": {},
   "outputs": [],
   "source": [
    "b = [1, 2, 3]"
   ]
  },
  {
   "cell_type": "code",
   "execution_count": 36,
   "id": "9abee18f-61c5-45f6-b9b1-ff031adc833f",
   "metadata": {},
   "outputs": [
    {
     "data": {
      "text/plain": [
       "\u001b[1;31mType:\u001b[0m        list\n",
       "\u001b[1;31mString form:\u001b[0m [1, 2, 3]\n",
       "\u001b[1;31mLength:\u001b[0m      3\n",
       "\u001b[1;31mDocstring:\u001b[0m  \n",
       "Built-in mutable sequence.\n",
       "\n",
       "If no argument is given, the constructor creates a new empty list.\n",
       "The argument must be an iterable if specified."
      ]
     },
     "metadata": {},
     "output_type": "display_data"
    }
   ],
   "source": [
    "b?"
   ]
  },
  {
   "cell_type": "code",
   "execution_count": 38,
   "id": "d69ab686-eb96-4c01-a057-1b61ed967448",
   "metadata": {},
   "outputs": [
    {
     "data": {
      "text/plain": [
       "\u001b[1;31mSignature:\u001b[0m \u001b[0mprint\u001b[0m\u001b[1;33m(\u001b[0m\u001b[1;33m*\u001b[0m\u001b[0margs\u001b[0m\u001b[1;33m,\u001b[0m \u001b[0msep\u001b[0m\u001b[1;33m=\u001b[0m\u001b[1;34m' '\u001b[0m\u001b[1;33m,\u001b[0m \u001b[0mend\u001b[0m\u001b[1;33m=\u001b[0m\u001b[1;34m'\\n'\u001b[0m\u001b[1;33m,\u001b[0m \u001b[0mfile\u001b[0m\u001b[1;33m=\u001b[0m\u001b[1;32mNone\u001b[0m\u001b[1;33m,\u001b[0m \u001b[0mflush\u001b[0m\u001b[1;33m=\u001b[0m\u001b[1;32mFalse\u001b[0m\u001b[1;33m)\u001b[0m\u001b[1;33m\u001b[0m\u001b[1;33m\u001b[0m\u001b[0m\n",
       "\u001b[1;31mDocstring:\u001b[0m\n",
       "Prints the values to a stream, or to sys.stdout by default.\n",
       "\n",
       "sep\n",
       "  string inserted between values, default a space.\n",
       "end\n",
       "  string appended after the last value, default a newline.\n",
       "file\n",
       "  a file-like object (stream); defaults to the current sys.stdout.\n",
       "flush\n",
       "  whether to forcibly flush the stream.\n",
       "\u001b[1;31mType:\u001b[0m      builtin_function_or_method"
      ]
     },
     "metadata": {},
     "output_type": "display_data"
    }
   ],
   "source": [
    "print?"
   ]
  },
  {
   "cell_type": "markdown",
   "id": "a2a7d490-8f19-4eb8-9e8f-1be883eeb83e",
   "metadata": {},
   "source": [
    "This is known as object introspection. If the object is a function or instance method, the docstring, if defined, will also be shown.\n",
    "\n",
    "Example:"
   ]
  },
  {
   "cell_type": "code",
   "execution_count": 57,
   "id": "9c0f2704-f399-4c41-b371-a8700671eb09",
   "metadata": {},
   "outputs": [],
   "source": [
    "def add_number(a,b):\n",
    "    \"\"\"\n",
    "    add two numbers together \n",
    "\n",
    "    Return \n",
    "    -------\n",
    "    the_sum:type of arguments \n",
    "\"\"\"\n",
    "    return a + b"
   ]
  },
  {
   "cell_type": "code",
   "execution_count": 43,
   "id": "3254a519-e7fe-4ffc-b204-c6ec5431e9cc",
   "metadata": {},
   "outputs": [
    {
     "data": {
      "text/plain": [
       "\u001b[1;31mSignature:\u001b[0m \u001b[0madd_number\u001b[0m\u001b[1;33m(\u001b[0m\u001b[0ma\u001b[0m\u001b[1;33m,\u001b[0m \u001b[0mb\u001b[0m\u001b[1;33m)\u001b[0m\u001b[1;33m\u001b[0m\u001b[1;33m\u001b[0m\u001b[0m\n",
       "\u001b[1;31mDocstring:\u001b[0m\n",
       "add two numbers together \n",
       "\n",
       "Return \n",
       "-------\n",
       "the_sum:type of arguments \n",
       "\u001b[1;31mFile:\u001b[0m      c:\\users\\administrator\\appdata\\local\\temp\\ipykernel_18968\\3160180932.py\n",
       "\u001b[1;31mType:\u001b[0m      function"
      ]
     },
     "metadata": {},
     "output_type": "display_data"
    }
   ],
   "source": [
    "add_number?"
   ]
  },
  {
   "cell_type": "code",
   "execution_count": 63,
   "id": "9d44aebc-f4dd-48c8-9ec3-4838e18abb15",
   "metadata": {},
   "outputs": [],
   "source": [
    "import numpy as np\n"
   ]
  },
  {
   "cell_type": "code",
   "execution_count": 69,
   "id": "01683e39-a377-4336-80e4-a1bca0f77ca3",
   "metadata": {},
   "outputs": [
    {
     "data": {
      "text/plain": [
       "np.__loader__\n",
       "np.load\n",
       "np.loadtxt"
      ]
     },
     "metadata": {},
     "output_type": "display_data"
    }
   ],
   "source": [
    "np.*load*?"
   ]
  },
  {
   "cell_type": "markdown",
   "id": "5b2108d5-8421-4aa1-8b31-132b9e000940",
   "metadata": {},
   "source": [
    "# Language Semantics\n",
    "\n",
    "Python uses white space instead of brace to structure code\n",
    "\n",
    "Take example for loop for sorting algorithm:\n",
    "\n",
    "for x in array: \n",
    "    if x < pivot: \n",
    "        less.append(x)\n",
    "    else: \n",
    "        greater.append(x)\n",
    "\n",
    "\n",
    "A colon denotes the start of an indented code block after which all of the code must be indented by the same amount until the end of the block "
   ]
  },
  {
   "cell_type": "code",
   "execution_count": null,
   "id": "eef09d7f-b575-4c71-9117-2230e398daec",
   "metadata": {},
   "outputs": [],
   "source": []
  }
 ],
 "metadata": {
  "kernelspec": {
   "display_name": "Python [conda env:base] *",
   "language": "python",
   "name": "conda-base-py"
  },
  "language_info": {
   "codemirror_mode": {
    "name": "ipython",
    "version": 3
   },
   "file_extension": ".py",
   "mimetype": "text/x-python",
   "name": "python",
   "nbconvert_exporter": "python",
   "pygments_lexer": "ipython3",
   "version": "3.11.7"
  }
 },
 "nbformat": 4,
 "nbformat_minor": 5
}
