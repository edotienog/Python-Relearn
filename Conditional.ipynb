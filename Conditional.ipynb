{
 "cells": [
  {
   "cell_type": "markdown",
   "id": "c5aa962a-f36d-461a-a8b2-56c6e350b6ce",
   "metadata": {},
   "source": [
    "**CONDITIONALS** Boolean are preferred when combining conditional statements using \n",
    "\n",
    "Keywords like;\n",
    " - if\n",
    " - elif\n",
    " - else\n",
    "NB: After the colon ( : ), notice a whitespace that denotes a separate code block. Similar to when we define a function of the header ending with ( : ).\n",
    "The following line of code is thus indented four (4) whitespace.\n",
    "\n",
    "Codes that follow consist of the body of the function. \n",
    "The last unindented code ends the definition of the function.\n"
   ]
  },
  {
   "cell_type": "code",
   "execution_count": 5,
   "id": "f6633ca7-44c1-4e25-88b3-4d5cbf62ea6b",
   "metadata": {},
   "outputs": [
    {
     "name": "stdout",
     "output_type": "stream",
     "text": [
      "0 Is Zero\n",
      "-15 Is Negative\n"
     ]
    }
   ],
   "source": [
    "def inspect(x):\n",
    "    if x == 0:\n",
    "        print (x, \"Is Zero\")\n",
    "    elif x > 0:\n",
    "        print(x, \"Is Positive\")\n",
    "    elif x < 0: \n",
    "        print (x, \"Is Negative\")\n",
    "    else:\n",
    "        print(x, \"Is unlikely anything I've ever seen...\")\n",
    "\n",
    "inspect (0)\n",
    "inspect(-15)\n",
    "        \n",
    "    "
   ]
  },
  {
   "cell_type": "code",
   "execution_count": 9,
   "id": "c83cc88f-90e8-4c52-bf28-4948879cfe66",
   "metadata": {},
   "outputs": [
    {
     "name": "stdout",
     "output_type": "stream",
     "text": [
      "Only printed when x is positive; x =  1\n",
      "Also only printed when x is positive; x= 1\n",
      "Always printed, regardless of x's value; x = 1\n",
      "Always printed, regardless of x's value; x = 0\n"
     ]
    }
   ],
   "source": [
    "def f(x):\n",
    "    if x > 0:\n",
    "        print(\"Only printed when x is positive; x = \", x)\n",
    "        print(\"Also only printed when x is positive; x=\", x)\n",
    "    print(\"Always printed, regardless of x's value; x =\", x)\n",
    "\n",
    "f(1)\n",
    "f(0)"
   ]
  },
  {
   "cell_type": "markdown",
   "id": "4c5f4a51-f54c-4d26-9472-37e5e06c1f44",
   "metadata": {},
   "source": [
    "**Boolean Conversion** \n",
    "\n",
    "bool() function turns things into bools"
   ]
  },
  {
   "cell_type": "code",
   "execution_count": 11,
   "id": "812acbf9-d8ac-4244-8771-748fd96a12a3",
   "metadata": {},
   "outputs": [
    {
     "name": "stdout",
     "output_type": "stream",
     "text": [
      "True\n",
      "False\n",
      "True\n",
      "False\n"
     ]
    }
   ],
   "source": [
    "print(bool(1)) #Treats all numbers as true only 0\n",
    "print(bool(0))\n",
    "print(bool(\"ASAP\")) #Treats all strings as true expect empty string \"\"\n",
    "print(bool(\"\")) #Returns false \n"
   ]
  },
  {
   "cell_type": "code",
   "execution_count": 12,
   "id": "1406e122-6d46-4ecc-b567-2e03cd37b9f8",
   "metadata": {},
   "outputs": [
    {
     "name": "stdout",
     "output_type": "stream",
     "text": [
      "spam\n"
     ]
    }
   ],
   "source": [
    "if 0:\n",
    "    print(0)\n",
    "elif \"spam\":\n",
    "    print (\"spam\")\n"
   ]
  }
 ],
 "metadata": {
  "kernelspec": {
   "display_name": "Python 3 (ipykernel)",
   "language": "python",
   "name": "python3"
  },
  "language_info": {
   "codemirror_mode": {
    "name": "ipython",
    "version": 3
   },
   "file_extension": ".py",
   "mimetype": "text/x-python",
   "name": "python",
   "nbconvert_exporter": "python",
   "pygments_lexer": "ipython3",
   "version": "3.11.7"
  }
 },
 "nbformat": 4,
 "nbformat_minor": 5
}
