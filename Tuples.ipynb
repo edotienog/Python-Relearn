{
 "cells": [
  {
   "cell_type": "markdown",
   "id": "e01751da-5482-4bf6-9764-6a045c4a6501",
   "metadata": {},
   "source": [
    "# TUPLES \n",
    "\n",
    "Tuples are similar to the list. The two differences are: \n",
    "\n",
    "Their syntax use square brackets instead of parentheses instead of brackets"
   ]
  },
  {
   "cell_type": "code",
   "execution_count": 1,
   "id": "1def4f04-d951-49c2-a941-19a6d6c72fbc",
   "metadata": {},
   "outputs": [
    {
     "data": {
      "text/plain": [
       "(1, 2, 3)"
      ]
     },
     "execution_count": 1,
     "metadata": {},
     "output_type": "execute_result"
    }
   ],
   "source": [
    "t = (1, 2, 3)\n",
    "t"
   ]
  },
  {
   "cell_type": "code",
   "execution_count": 2,
   "id": "88d14e0c-a51e-48dd-8787-eedfcd7f1818",
   "metadata": {},
   "outputs": [
    {
     "data": {
      "text/plain": [
       "(1, 2, 3)"
      ]
     },
     "execution_count": 2,
     "metadata": {},
     "output_type": "execute_result"
    }
   ],
   "source": [
    "t = 1, 2 , 3 # Equavalent to the above \n",
    "t"
   ]
  },
  {
   "cell_type": "markdown",
   "id": "2c3d8dea-edf4-48de-bba3-eefb2f980ce6",
   "metadata": {},
   "source": [
    "# The cannot be modified (they are immutable)\n",
    "\n"
   ]
  },
  {
   "cell_type": "code",
   "execution_count": 3,
   "id": "99551b09-afbc-4e07-b34a-c44c61100b29",
   "metadata": {},
   "outputs": [
    {
     "ename": "TypeError",
     "evalue": "'tuple' object does not support item assignment",
     "output_type": "error",
     "traceback": [
      "\u001b[1;31m---------------------------------------------------------------------------\u001b[0m",
      "\u001b[1;31mTypeError\u001b[0m                                 Traceback (most recent call last)",
      "Cell \u001b[1;32mIn[3], line 1\u001b[0m\n\u001b[1;32m----> 1\u001b[0m t[\u001b[38;5;241m0\u001b[39m] \u001b[38;5;241m=\u001b[39m \u001b[38;5;241m100\u001b[39m\n",
      "\u001b[1;31mTypeError\u001b[0m: 'tuple' object does not support item assignment"
     ]
    }
   ],
   "source": [
    "t[0] = 100"
   ]
  },
  {
   "cell_type": "markdown",
   "id": "c618bbef-41e7-4b25-9606-4b2f4b535569",
   "metadata": {},
   "source": [
    "Tuples are often used for functions that have multiple return values. \n",
    "\n",
    "For example, the as_integer_ratio() method of float object return a numerator and denominator in the form of tuple"
   ]
  },
  {
   "cell_type": "code",
   "execution_count": 2,
   "id": "61e9ec3a-1ec4-408f-9532-5f2ba0c09249",
   "metadata": {},
   "outputs": [
    {
     "data": {
      "text/plain": [
       "(1, 8)"
      ]
     },
     "execution_count": 2,
     "metadata": {},
     "output_type": "execute_result"
    }
   ],
   "source": [
    "x = 0.125\n",
    "x.as_integer_ratio()"
   ]
  },
  {
   "cell_type": "markdown",
   "id": "a5d18cc3-c172-4618-aaad-43800ddea546",
   "metadata": {},
   "source": [
    "These multiple return value can be individually assigned as follow: "
   ]
  },
  {
   "cell_type": "code",
   "execution_count": 3,
   "id": "7390a321-c505-4c01-aafe-ccdc22fe3aae",
   "metadata": {},
   "outputs": [
    {
     "name": "stdout",
     "output_type": "stream",
     "text": [
      "0.125\n"
     ]
    }
   ],
   "source": [
    "numerator, denominator = x.as_integer_ratio()\n",
    "print(numerator/denominator)"
   ]
  },
  {
   "cell_type": "markdown",
   "id": "3c70cde3-9bf3-4dbf-bd0a-4632c45fee76",
   "metadata": {},
   "source": [
    "# Swaping two variable "
   ]
  },
  {
   "cell_type": "code",
   "execution_count": 5,
   "id": "b3b853b3-5c7c-4659-851b-8f6770cad7db",
   "metadata": {},
   "outputs": [
    {
     "name": "stdout",
     "output_type": "stream",
     "text": [
      "0 1\n"
     ]
    }
   ],
   "source": [
    "a = 1 \n",
    "b = 0\n",
    "\n",
    "a, b = b, a\n",
    "print (a, b)"
   ]
  },
  {
   "cell_type": "markdown",
   "id": "c91d347b-8ea4-4505-81ec-cc1238f0ebf7",
   "metadata": {},
   "source": [
    "# SOME PRACTICE EXCERCISE FOR LISTS AND TUPLES "
   ]
  },
  {
   "cell_type": "code",
   "execution_count": 59,
   "id": "c34ebdc4-ade5-4de4-ad5d-34e90b125e41",
   "metadata": {},
   "outputs": [
    {
     "data": {
      "text/plain": [
       "True"
      ]
     },
     "execution_count": 59,
     "metadata": {},
     "output_type": "execute_result"
    }
   ],
   "source": [
    "def has_lucky_number(nums):\n",
    "    \"\"\"Return whether the given list of numbers is at least one number divisible by 7\n",
    "    \"\"\"\n",
    "    for numb in nums:\n",
    "        if numb % 7 == 0:\n",
    "            return True\n",
    "        # After exhausting the list without finding a lucky number \n",
    "    return False\n",
    "\n",
    "has_lucky_number((1, 3, 18, 25))\n",
    "has_lucky_number((12, 14, 16, 17))\n"
   ]
  },
  {
   "cell_type": "code",
   "execution_count": 61,
   "id": "a9583456-8323-4ce4-acbf-2801b5de5c4c",
   "metadata": {},
   "outputs": [
    {
     "data": {
      "text/plain": [
       "True"
      ]
     },
     "execution_count": 61,
     "metadata": {},
     "output_type": "execute_result"
    }
   ],
   "source": [
    "# Using list Comprehension\n",
    "\n",
    "def has_lucky_number(nums):\n",
    "    return any([numb % 7 ==0 for numb in nums])\n",
    "\n",
    "has_lucky_number((1, 3, 18, 25))\n",
    "has_lucky_number((12, 14, 16, 17))"
   ]
  },
  {
   "cell_type": "markdown",
   "id": "c2da20a4-8139-43ef-9a2d-e976bf5f12cb",
   "metadata": {},
   "source": [
    "# Python and R has libraris like numpy and pandas that we can use for comparing elements of list to 2 (i.e do an element-wise comparison) and give us a list of booleans like [False, False, True, True]"
   ]
  },
  {
   "cell_type": "code",
   "execution_count": 74,
   "id": "575e9364-fea0-4fd7-b1cb-392910018c67",
   "metadata": {},
   "outputs": [],
   "source": [
    "def elementwise_greater_than(L, thresh):\n",
    "    \"\"\"Return a list with the same length as L, where the value at index i is True if L(i) is greater than\n",
    "    L[i] is greater than thresh, False otherwise. \n",
    "\n",
    "    >>> elementwise_greater_than([1, 2 3, 4], 2)\n",
    "    [False, False, True, True]\n",
    "    \"\"\"\n",
    "    pass\n",
    "\n",
    "elementwise_greater_than([1, 2, 3, 4], 2)"
   ]
  },
  {
   "cell_type": "code",
   "execution_count": null,
   "id": "70533ba3-a4bb-470d-a278-287eac29b56f",
   "metadata": {},
   "outputs": [],
   "source": []
  }
 ],
 "metadata": {
  "kernelspec": {
   "display_name": "Python [conda env:base] *",
   "language": "python",
   "name": "conda-base-py"
  },
  "language_info": {
   "codemirror_mode": {
    "name": "ipython",
    "version": 3
   },
   "file_extension": ".py",
   "mimetype": "text/x-python",
   "name": "python",
   "nbconvert_exporter": "python",
   "pygments_lexer": "ipython3",
   "version": "3.11.7"
  }
 },
 "nbformat": 4,
 "nbformat_minor": 5
}
