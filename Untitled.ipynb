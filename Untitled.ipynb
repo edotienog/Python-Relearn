{
 "cells": [
  {
   "cell_type": "markdown",
   "id": "68ac9258-86cd-418e-99d7-08bb9dd3b59c",
   "metadata": {},
   "source": [
    "**Exercise practice on BOOLEAN AND CONDITIONALS**"
   ]
  },
  {
   "cell_type": "code",
   "execution_count": 14,
   "id": "302f9b47-a032-4dd5-83df-b547362e741f",
   "metadata": {},
   "outputs": [
    {
     "data": {
      "text/plain": [
       "1"
      ]
     },
     "execution_count": 14,
     "metadata": {},
     "output_type": "execute_result"
    }
   ],
   "source": [
    "def sign(int):\n",
    "    if int < -0:\n",
    "        return -1 \n",
    "    elif int > 0:\n",
    "        return 1\n",
    "    else:\n",
    "        return 0\n",
    "sign(8)"
   ]
  },
  {
   "cell_type": "markdown",
   "id": "1f880d01-8298-497a-bd4a-d37f3fbc7681",
   "metadata": {},
   "source": [
    "Return the number of leftover sweets that must be crushed after distributing\n",
    "    the given number of candies evenly between 3 friends."
   ]
  },
  {
   "cell_type": "code",
   "execution_count": 22,
   "id": "8d45e2b7-1c6d-49de-a7a9-c609fceef664",
   "metadata": {},
   "outputs": [
    {
     "name": "stdout",
     "output_type": "stream",
     "text": [
      "Splitting 1 sweet\n"
     ]
    },
    {
     "data": {
      "text/plain": [
       "1"
      ]
     },
     "execution_count": 22,
     "metadata": {},
     "output_type": "execute_result"
    }
   ],
   "source": [
    "def be_crushed(total_sweets):\n",
    "    \"\"\"Return the number of leftover sweets that must be crushed after distributing\n",
    "    The given number of candies is evenly distributed between 3 friends.\n",
    "\n",
    "    >>> be_crushed(123)\n",
    "\n",
    "1\"\"\"\n",
    "    print('Splitting', total_sweets, 'sweet' if total_sweets == 1 else 'sweets')\n",
    "    return total_sweets % 3\n",
    "\n",
    "be_crushed(1)\n"
   ]
  },
  {
   "cell_type": "code",
   "execution_count": 25,
   "id": "f6900b7b-982e-42dd-a157-7bf569f00ceb",
   "metadata": {},
   "outputs": [
    {
     "data": {
      "text/plain": [
       "True"
      ]
     },
     "execution_count": 25,
     "metadata": {},
     "output_type": "execute_result"
    }
   ],
   "source": [
    "def is_negative(int):\n",
    "    if int > 0:\n",
    "        return False\n",
    "    else: \n",
    "        return True \n",
    "\n",
    "is_negative(-1)"
   ]
  },
  {
   "cell_type": "code",
   "execution_count": 28,
   "id": "a40df923-9adf-4366-9c09-a8b8371641cd",
   "metadata": {},
   "outputs": [
    {
     "data": {
      "text/plain": [
       "True"
      ]
     },
     "execution_count": 28,
     "metadata": {},
     "output_type": "execute_result"
    }
   ],
   "source": [
    "def concise_is_negative(int):\n",
    "    return int < 0\n",
    "\n",
    "#concise_is_negative(9)\n",
    "concise_is_negative(-7)\n"
   ]
  },
  {
   "cell_type": "code",
   "execution_count": null,
   "id": "6b577aa9-6635-402a-a2c0-fa0aeb7e61e6",
   "metadata": {},
   "outputs": [],
   "source": []
  }
 ],
 "metadata": {
  "kernelspec": {
   "display_name": "Python 3 (ipykernel)",
   "language": "python",
   "name": "python3"
  },
  "language_info": {
   "codemirror_mode": {
    "name": "ipython",
    "version": 3
   },
   "file_extension": ".py",
   "mimetype": "text/x-python",
   "name": "python",
   "nbconvert_exporter": "python",
   "pygments_lexer": "ipython3",
   "version": "3.11.7"
  }
 },
 "nbformat": 4,
 "nbformat_minor": 5
}
