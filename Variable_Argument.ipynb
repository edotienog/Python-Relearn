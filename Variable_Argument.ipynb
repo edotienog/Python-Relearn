{
 "cells": [
  {
   "cell_type": "markdown",
   "id": "8c19b9b6-e345-40eb-aeec-ea3017e32ad1",
   "metadata": {},
   "source": [
    "# Variable and Argument Passing \n"
   ]
  },
  {
   "cell_type": "code",
   "execution_count": 14,
   "id": "5c0f26dc-90a5-40fd-b1fe-09c64d80d879",
   "metadata": {},
   "outputs": [
    {
     "data": {
      "text/plain": [
       "[1, 2, 3]"
      ]
     },
     "execution_count": 14,
     "metadata": {},
     "output_type": "execute_result"
    }
   ],
   "source": [
    "# Creating a reference to an object shown in the righthand side of equal sign\n",
    "a = [1, 2, 3]\n",
    "a"
   ]
  },
  {
   "cell_type": "code",
   "execution_count": 24,
   "id": "551ca95a-8438-40fc-a9ef-c670b7e05b65",
   "metadata": {},
   "outputs": [
    {
     "data": {
      "text/plain": [
       "[1, 2, 3, 4, 4, 4]"
      ]
     },
     "execution_count": 24,
     "metadata": {},
     "output_type": "execute_result"
    }
   ],
   "source": [
    "# Assign a new variable \n",
    "\n",
    "b = a \n",
    "b"
   ]
  },
  {
   "cell_type": "code",
   "execution_count": 22,
   "id": "68191451-2f7c-4509-8a05-bf983a397495",
   "metadata": {},
   "outputs": [
    {
     "data": {
      "text/plain": [
       "[1, 2, 3, 4, 4, 4]"
      ]
     },
     "execution_count": 22,
     "metadata": {},
     "output_type": "execute_result"
    }
   ],
   "source": [
    "a.append(4)\n",
    "b"
   ]
  },
  {
   "cell_type": "code",
   "execution_count": 34,
   "id": "638acec5-f1cd-4cb4-8e37-b54a2306710b",
   "metadata": {},
   "outputs": [
    {
     "data": {
      "text/plain": [
       "[1, 2, 3, 4]"
      ]
     },
     "execution_count": 34,
     "metadata": {},
     "output_type": "execute_result"
    }
   ],
   "source": [
    "#When you pass objects as arguments to a function, new local variables are created referencing the original object without any copying. \n",
    "\n",
    "def append_element(some_list, element):\n",
    "    some_list.append(element)\n",
    "\n",
    "data = [1,2,3]\n",
    "append_element(data,4)\n",
    "data"
   ]
  },
  {
   "cell_type": "code",
   "execution_count": 36,
   "id": "c77c64c8-adf3-4810-a638-7f66118c4788",
   "metadata": {},
   "outputs": [
    {
     "data": {
      "text/plain": [
       "int"
      ]
     },
     "execution_count": 36,
     "metadata": {},
     "output_type": "execute_result"
    }
   ],
   "source": [
    "# Dynamic references has not inherent type associated with them. For example \n",
    "\n",
    "a = 5 \n",
    "\n",
    "type(a)"
   ]
  },
  {
   "cell_type": "code",
   "execution_count": 38,
   "id": "efdf3fa1-3078-440a-ae70-3d4529419df7",
   "metadata": {},
   "outputs": [
    {
     "data": {
      "text/plain": [
       "str"
      ]
     },
     "execution_count": 38,
     "metadata": {},
     "output_type": "execute_result"
    }
   ],
   "source": [
    "a = 'foo'\n",
    "\n",
    "type(a)"
   ]
  },
  {
   "cell_type": "code",
   "execution_count": 40,
   "id": "1ee8ea15-746b-4fc1-a63f-a6f8f5932792",
   "metadata": {},
   "outputs": [
    {
     "ename": "TypeError",
     "evalue": "can only concatenate str (not \"int\") to str",
     "output_type": "error",
     "traceback": [
      "\u001b[1;31m---------------------------------------------------------------------------\u001b[0m",
      "\u001b[1;31mTypeError\u001b[0m                                 Traceback (most recent call last)",
      "Cell \u001b[1;32mIn[40], line 3\u001b[0m\n\u001b[0;32m      1\u001b[0m \u001b[38;5;66;03m# Python is not a typed language, consider the error below \u001b[39;00m\n\u001b[1;32m----> 3\u001b[0m \u001b[38;5;124m\"\u001b[39m\u001b[38;5;124m5\u001b[39m\u001b[38;5;124m\"\u001b[39m \u001b[38;5;241m+\u001b[39m \u001b[38;5;241m5\u001b[39m\n",
      "\u001b[1;31mTypeError\u001b[0m: can only concatenate str (not \"int\") to str"
     ]
    }
   ],
   "source": [
    "# Python is not a typed language, consider the error below \n",
    "\n",
    "\"5\" + 5"
   ]
  },
  {
   "cell_type": "code",
   "execution_count": 32,
   "id": "e530b2ca-78c5-4f6e-93fe-6159abecc984",
   "metadata": {},
   "outputs": [
    {
     "name": "stdout",
     "output_type": "stream",
     "text": [
      "a is <class 'float'>, b is <class 'int'>\n"
     ]
    },
    {
     "data": {
      "text/plain": [
       "2.25"
      ]
     },
     "execution_count": 32,
     "metadata": {},
     "output_type": "execute_result"
    }
   ],
   "source": [
    "a = 4.5\n",
    "b = 2\n",
    "\n",
    "# String formatting, to be visited later\n",
    "print(f'a is {type(a)}, b is {type(b)}') #Even b is an integer. It is implicitly converted to a float for the divisoin operation\n",
    "a / b"
   ]
  },
  {
   "cell_type": "code",
   "execution_count": 6,
   "id": "2c039353-7efa-4654-be75-dae5edb25d54",
   "metadata": {},
   "outputs": [
    {
     "data": {
      "text/plain": [
       "True"
      ]
     },
     "execution_count": 6,
     "metadata": {},
     "output_type": "execute_result"
    }
   ],
   "source": [
    "a = 5 \n",
    "# isinstance can accept a tuple for types if you want to check that an object's is among those present in tuple:\n",
    "isinstance(a, int)"
   ]
  },
  {
   "cell_type": "code",
   "execution_count": 37,
   "id": "32e5df98-aabb-4ee7-b575-40841a95c944",
   "metadata": {},
   "outputs": [
    {
     "data": {
      "text/plain": [
       "True"
      ]
     },
     "execution_count": 37,
     "metadata": {},
     "output_type": "execute_result"
    }
   ],
   "source": [
    "a = 5; b = 4.5 \n",
    "\n",
    "isinstance(b, (int, float))"
   ]
  },
  {
   "cell_type": "code",
   "execution_count": 43,
   "id": "0a95a9b1-17b5-4c7a-a61d-bb9b12bca7c3",
   "metadata": {},
   "outputs": [
    {
     "data": {
      "text/plain": [
       "True"
      ]
     },
     "execution_count": 43,
     "metadata": {},
     "output_type": "execute_result"
    }
   ],
   "source": [
    "isinstance(b, (int, float))"
   ]
  },
  {
   "cell_type": "markdown",
   "id": "25f35c92-a9c9-42e1-abf0-a18467426ffd",
   "metadata": {},
   "source": [
    "# Attribute and Methods\n",
    "\n",
    "Objects in Python usually have:  \n",
    "    - both attributes (other Python objects are stored 'inside' the object).\n",
    "    - Methods (functions associated with an object that can have access to the     \n",
    "      object's internal data)\n",
    "Both of them are accessed via the syntax <obj.attribute_name>:\n",
    "\n",
    "Example:"
   ]
  },
  {
   "cell_type": "markdown",
   "id": "0fa578fe-31a2-47ed-bca5-8bc8722d1134",
   "metadata": {},
   "source": [
    " a = \"foo\"\n",
    "\n",
    " a.<Press Tab>\n",
    "\n",
    "results: capitalize() index()        isspace()      removesuffix()  startswith()\n",
    "casefold()   isprintable()  istitle()      replace()       strip()\n",
    "center()     isalnum()      isupper()      rfind()         swapcase()\n",
    "count()      isalpha()      join()         rindex()        title()\n",
    "encode()     isascii()      ljust()        rjust()         translate()\n",
    "endswith()   isdecimal()    lower()        rpartition()\n",
    "expandtabs() isdigit()      lstrip()       rsplit()\n",
    "find()       isidentifier() maketrans()    rstrip()\n",
    "format()     islower()      partition()    split()\n",
    "format_map() isnumeric()    removeprefix() splitlines()\n",
    "\n",
    "\n",
    "Attributes and method can also be accessed by name via the getattr function:"
   ]
  },
  {
   "cell_type": "code",
   "execution_count": 51,
   "id": "2409d7ae-a7b1-4e98-9c91-388c9efc504b",
   "metadata": {},
   "outputs": [
    {
     "data": {
      "text/plain": [
       "<function str.split(sep=None, maxsplit=-1)>"
      ]
     },
     "execution_count": 51,
     "metadata": {},
     "output_type": "execute_result"
    }
   ],
   "source": [
    "getattr(a, 'split')"
   ]
  },
  {
   "cell_type": "markdown",
   "id": "e21c1649-3676-4581-8bb9-39195a6159cd",
   "metadata": {},
   "source": [
    "# Duck Typing \n",
    "\n",
    "Concern with object whether it certain behavior or method.\n",
    "\n",
    "For example, \"If it walks like a duck, quack like a duck, then it is a duck\" \n",
    "\n",
    "E.g iterator protocol object has _iter_\"magic method\""
   ]
  },
  {
   "cell_type": "code",
   "execution_count": 11,
   "id": "d5e13181-f640-4617-84c6-34e3838cc0f3",
   "metadata": {},
   "outputs": [
    {
     "data": {
      "text/plain": [
       "True"
      ]
     },
     "execution_count": 11,
     "metadata": {},
     "output_type": "execute_result"
    }
   ],
   "source": [
    "def isiterable(obj):\n",
    "    try: \n",
    "        iter(obj)\n",
    "        return True \n",
    "    except TypeError:# not \n",
    "        return False\n",
    "\n",
    "isiterable(\"a string\")"
   ]
  },
  {
   "cell_type": "code",
   "execution_count": 13,
   "id": "24db3178-958d-480a-b487-e6a6bf7e29ac",
   "metadata": {},
   "outputs": [
    {
     "data": {
      "text/plain": [
       "True"
      ]
     },
     "execution_count": 13,
     "metadata": {},
     "output_type": "execute_result"
    }
   ],
   "source": [
    "isiterable([1, 2, 3])"
   ]
  },
  {
   "cell_type": "code",
   "execution_count": 15,
   "id": "d1fda5bd-1012-4432-bb50-caa6ebd70952",
   "metadata": {},
   "outputs": [
    {
     "data": {
      "text/plain": [
       "False"
      ]
     },
     "execution_count": 15,
     "metadata": {},
     "output_type": "execute_result"
    }
   ],
   "source": [
    "isiterable(5)"
   ]
  },
  {
   "cell_type": "markdown",
   "id": "d50a8d2b-d204-4539-93e9-5844264e00c5",
   "metadata": {},
   "source": [
    "# IMPORTS \n",
    "\n",
    "A module in python is a file with .py extension containing executable codes"
   ]
  },
  {
   "cell_type": "markdown",
   "id": "4f29ca8b-3baa-43d9-b79e-e2f1f34c2071",
   "metadata": {},
   "source": [
    "This code is written as a separate file that we have imported. The file is contained in the main repository of this branch.\n",
    "\n",
    "# some_module.py\n",
    "PI = 3.1416\n",
    "\n",
    "def f(x):\n",
    "    return x + 2\n",
    "\n",
    "def g(a, b):\n",
    "    return a + b"
   ]
  },
  {
   "cell_type": "markdown",
   "id": "c3e3943d-31b3-48a6-949f-e2fcaa5700e2",
   "metadata": {},
   "source": [
    "Now let's say we want to access to variable/function that is defined in the above code in module.py. We can achieve that through: "
   ]
  },
  {
   "cell_type": "code",
   "execution_count": 37,
   "id": "83f22050-e306-41a4-a96f-7a496b4c1e37",
   "metadata": {},
   "outputs": [],
   "source": [
    "import some_module\n",
    "result =some_module.f(5)\n",
    "pi = some_module.PI"
   ]
  },
  {
   "cell_type": "code",
   "execution_count": null,
   "id": "3218e852-eb1a-4690-89c7-8728106af5d7",
   "metadata": {},
   "outputs": [],
   "source": []
  }
 ],
 "metadata": {
  "kernelspec": {
   "display_name": "Python [conda env:base] *",
   "language": "python",
   "name": "conda-base-py"
  },
  "language_info": {
   "codemirror_mode": {
    "name": "ipython",
    "version": 3
   },
   "file_extension": ".py",
   "mimetype": "text/x-python",
   "name": "python",
   "nbconvert_exporter": "python",
   "pygments_lexer": "ipython3",
   "version": "3.11.7"
  }
 },
 "nbformat": 4,
 "nbformat_minor": 5
}
