{
 "cells": [
  {
   "cell_type": "markdown",
   "id": "922e7ff7-46bd-4f37-9747-922db88a91c9",
   "metadata": {},
   "source": [
    "# Dictionary "
   ]
  },
  {
   "cell_type": "code",
   "execution_count": 2,
   "id": "56b13c20-a286-4ac8-bdbd-728e23d95ece",
   "metadata": {},
   "outputs": [],
   "source": [
    "empty_dict = {}\n"
   ]
  },
  {
   "cell_type": "code",
   "execution_count": 3,
   "id": "db0a2fea-fedc-41c6-955c-66e204801421",
   "metadata": {},
   "outputs": [],
   "source": [
    "d1 = { \"a\": \"some value\", \n",
    "      \"b\": [1, 2, 3, 4]\n",
    "      }"
   ]
  },
  {
   "cell_type": "code",
   "execution_count": 4,
   "id": "dd03d347-6bba-4bf7-a013-7a8a4b30020d",
   "metadata": {},
   "outputs": [
    {
     "data": {
      "text/plain": [
       "{'a': 'some value', 'b': [1, 2, 3, 4]}"
      ]
     },
     "execution_count": 4,
     "metadata": {},
     "output_type": "execute_result"
    }
   ],
   "source": [
    "d1"
   ]
  },
  {
   "cell_type": "markdown",
   "id": "3006087d-6f32-43c3-b2ce-18cc57d8b00b",
   "metadata": {},
   "source": [
    "# You can access, insert, or set elements using the same syntax asfor accessing elements of a list or tuple:\n"
   ]
  },
  {
   "cell_type": "code",
   "execution_count": 6,
   "id": "f2603901-81c9-4dc4-9311-7813fd631f62",
   "metadata": {},
   "outputs": [],
   "source": [
    "d1[7] = \"an integer\""
   ]
  },
  {
   "cell_type": "code",
   "execution_count": 7,
   "id": "ecfd8862-8b56-4a2b-b7e9-43af212cbda7",
   "metadata": {},
   "outputs": [
    {
     "data": {
      "text/plain": [
       "{'a': 'some value', 'b': [1, 2, 3, 4], 7: 'an integer'}"
      ]
     },
     "execution_count": 7,
     "metadata": {},
     "output_type": "execute_result"
    }
   ],
   "source": [
    "d1"
   ]
  },
  {
   "cell_type": "markdown",
   "id": "0521f7a8-3e83-4ca0-8682-da3a3eab602c",
   "metadata": {},
   "source": [
    "# Checking if a dictionary contains a key using the same syntax used for checking whether a list or tuple contain value: "
   ]
  },
  {
   "cell_type": "code",
   "execution_count": 9,
   "id": "d090036a-b85c-4871-9608-7a5c80b270cb",
   "metadata": {},
   "outputs": [
    {
     "data": {
      "text/plain": [
       "True"
      ]
     },
     "execution_count": 9,
     "metadata": {},
     "output_type": "execute_result"
    }
   ],
   "source": [
    "\"b\" in d1"
   ]
  },
  {
   "cell_type": "markdown",
   "id": "722ded10-c1e8-4323-af6d-cdc6f7973cfb",
   "metadata": {},
   "source": [
    "# You can also delete value using either del key word or the pop method (which simultaneously return the value and delet the key):"
   ]
  },
  {
   "cell_type": "code",
   "execution_count": 11,
   "id": "df56d0fb-dac6-4d79-8f12-564183659399",
   "metadata": {},
   "outputs": [
    {
     "data": {
      "text/plain": [
       "{'a': 'some value', 'b': [1, 2, 3, 4], 7: 'an integer', 5: 'some value'}"
      ]
     },
     "execution_count": 11,
     "metadata": {},
     "output_type": "execute_result"
    }
   ],
   "source": [
    "d1[5] = \"some value\"\n",
    "\n",
    "d1"
   ]
  },
  {
   "cell_type": "code",
   "execution_count": 12,
   "id": "fb1b1960-cdbf-46b6-ab3e-53ea4fb6b4c5",
   "metadata": {},
   "outputs": [],
   "source": [
    "d1['dummy'] = 'another value'"
   ]
  },
  {
   "cell_type": "code",
   "execution_count": 13,
   "id": "b3896349-718e-4900-b209-de7217ee3913",
   "metadata": {},
   "outputs": [
    {
     "data": {
      "text/plain": [
       "{'a': 'some value',\n",
       " 'b': [1, 2, 3, 4],\n",
       " 7: 'an integer',\n",
       " 5: 'some value',\n",
       " 'dummy': 'another value'}"
      ]
     },
     "execution_count": 13,
     "metadata": {},
     "output_type": "execute_result"
    }
   ],
   "source": [
    "d1"
   ]
  },
  {
   "cell_type": "code",
   "execution_count": 14,
   "id": "1e408127-e21b-4604-bade-4b3b00c70810",
   "metadata": {},
   "outputs": [],
   "source": [
    "del d1[5]"
   ]
  },
  {
   "cell_type": "code",
   "execution_count": 15,
   "id": "81bf70a8-e322-4d81-9647-cc6b1e2579e4",
   "metadata": {},
   "outputs": [
    {
     "data": {
      "text/plain": [
       "{'a': 'some value',\n",
       " 'b': [1, 2, 3, 4],\n",
       " 7: 'an integer',\n",
       " 'dummy': 'another value'}"
      ]
     },
     "execution_count": 15,
     "metadata": {},
     "output_type": "execute_result"
    }
   ],
   "source": [
    "d1"
   ]
  },
  {
   "cell_type": "code",
   "execution_count": 16,
   "id": "dc9dadf3-bce5-4892-952d-2f9315d51413",
   "metadata": {},
   "outputs": [],
   "source": [
    "ret = d1.pop('dummy')"
   ]
  },
  {
   "cell_type": "code",
   "execution_count": 17,
   "id": "dc1dbd70-5a8e-4dca-ada1-f195483ee7e9",
   "metadata": {},
   "outputs": [
    {
     "data": {
      "text/plain": [
       "'another value'"
      ]
     },
     "execution_count": 17,
     "metadata": {},
     "output_type": "execute_result"
    }
   ],
   "source": [
    "ret"
   ]
  },
  {
   "cell_type": "code",
   "execution_count": 18,
   "id": "32b4bf68-7ee0-4dc1-bc87-1f6733cc9051",
   "metadata": {},
   "outputs": [
    {
     "data": {
      "text/plain": [
       "{'a': 'some value', 'b': [1, 2, 3, 4], 7: 'an integer'}"
      ]
     },
     "execution_count": 18,
     "metadata": {},
     "output_type": "execute_result"
    }
   ],
   "source": [
    "d1"
   ]
  },
  {
   "cell_type": "code",
   "execution_count": 23,
   "id": "14bdce2b-bdb7-48ec-91c1-8fcbd4180c1d",
   "metadata": {},
   "outputs": [
    {
     "data": {
      "text/plain": [
       "['a', 'b', 7]"
      ]
     },
     "execution_count": 23,
     "metadata": {},
     "output_type": "execute_result"
    }
   ],
   "source": [
    "list(d1.keys())\n",
    "['a', 'b', 7]"
   ]
  },
  {
   "cell_type": "code",
   "execution_count": 27,
   "id": "0a16dc2d-af7f-4f75-808b-7b1f298f2700",
   "metadata": {},
   "outputs": [
    {
     "data": {
      "text/plain": [
       "['some value', [1, 2, 3, 4], 'an integer']"
      ]
     },
     "execution_count": 27,
     "metadata": {},
     "output_type": "execute_result"
    }
   ],
   "source": [
    "list  (d1.values())"
   ]
  },
  {
   "cell_type": "markdown",
   "id": "1358237a-9a4c-421e-998c-66868d2c4be0",
   "metadata": {},
   "source": [
    "# If you need to iterate over both the keys and values, you can use the item-method to iterate over the keys and values as 2-tuples:"
   ]
  },
  {
   "cell_type": "code",
   "execution_count": 32,
   "id": "1d008795-1196-47e6-80aa-fc9161e9ccc2",
   "metadata": {},
   "outputs": [
    {
     "data": {
      "text/plain": [
       "[('a', 'some value'), ('b', [1, 2, 3, 4]), (7, 'an integer')]"
      ]
     },
     "execution_count": 32,
     "metadata": {},
     "output_type": "execute_result"
    }
   ],
   "source": [
    "list(d1.items())"
   ]
  },
  {
   "cell_type": "code",
   "execution_count": 43,
   "id": "958a608d-3825-45df-a364-95e4fbe5aca8",
   "metadata": {},
   "outputs": [],
   "source": [
    "# Update Method \n",
    "\n",
    "d1.update({'b': 'foo', 'c': 12})"
   ]
  },
  {
   "cell_type": "code",
   "execution_count": 45,
   "id": "434fcb31-61b7-4b0c-a967-ebb97fdad6cc",
   "metadata": {},
   "outputs": [
    {
     "data": {
      "text/plain": [
       "{'a': 'some value', 'b': 'foo', 7: 'an integer', 'c': 12}"
      ]
     },
     "execution_count": 45,
     "metadata": {},
     "output_type": "execute_result"
    }
   ],
   "source": [
    "d1"
   ]
  },
  {
   "cell_type": "code",
   "execution_count": null,
   "id": "55c2a667-1f51-4808-b63d-a20f103aa9de",
   "metadata": {},
   "outputs": [],
   "source": []
  }
 ],
 "metadata": {
  "kernelspec": {
   "display_name": "Python [conda env:base] *",
   "language": "python",
   "name": "conda-base-py"
  },
  "language_info": {
   "codemirror_mode": {
    "name": "ipython",
    "version": 3
   },
   "file_extension": ".py",
   "mimetype": "text/x-python",
   "name": "python",
   "nbconvert_exporter": "python",
   "pygments_lexer": "ipython3",
   "version": "3.11.7"
  }
 },
 "nbformat": 4,
 "nbformat_minor": 5
}
