{
 "cells": [
  {
   "cell_type": "markdown",
   "id": "922e7ff7-46bd-4f37-9747-922db88a91c9",
   "metadata": {},
   "source": [
    "# Dictionary "
   ]
  },
  {
   "cell_type": "code",
   "execution_count": 3,
   "id": "56b13c20-a286-4ac8-bdbd-728e23d95ece",
   "metadata": {},
   "outputs": [],
   "source": [
    "empty_dict = {}\n"
   ]
  },
  {
   "cell_type": "code",
   "execution_count": 11,
   "id": "db0a2fea-fedc-41c6-955c-66e204801421",
   "metadata": {},
   "outputs": [],
   "source": [
    "d1 = { \"a\": \"some value\", \n",
    "      \"b\": [1, 2, 3, 4]\n",
    "      }"
   ]
  },
  {
   "cell_type": "code",
   "execution_count": 13,
   "id": "dd03d347-6bba-4bf7-a013-7a8a4b30020d",
   "metadata": {},
   "outputs": [
    {
     "data": {
      "text/plain": [
       "{'a': 'some value', 'b': [1, 2, 3, 4]}"
      ]
     },
     "execution_count": 13,
     "metadata": {},
     "output_type": "execute_result"
    }
   ],
   "source": [
    "d1"
   ]
  },
  {
   "cell_type": "code",
   "execution_count": null,
   "id": "d87ff324-bd03-4f8b-81e3-6822d1588006",
   "metadata": {},
   "outputs": [],
   "source": [
    "# You can access, insert "
   ]
  }
 ],
 "metadata": {
  "kernelspec": {
   "display_name": "Python [conda env:base] *",
   "language": "python",
   "name": "conda-base-py"
  },
  "language_info": {
   "codemirror_mode": {
    "name": "ipython",
    "version": 3
   },
   "file_extension": ".py",
   "mimetype": "text/x-python",
   "name": "python",
   "nbconvert_exporter": "python",
   "pygments_lexer": "ipython3",
   "version": "3.11.7"
  }
 },
 "nbformat": 4,
 "nbformat_minor": 5
}
