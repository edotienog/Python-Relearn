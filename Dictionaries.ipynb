{
 "cells": [
  {
   "cell_type": "markdown",
   "id": "922e7ff7-46bd-4f37-9747-922db88a91c9",
   "metadata": {},
   "source": [
    "# Dictionary "
   ]
  },
  {
   "cell_type": "code",
   "execution_count": 3,
   "id": "56b13c20-a286-4ac8-bdbd-728e23d95ece",
   "metadata": {},
   "outputs": [],
   "source": [
    "empty_dict = {}\n"
   ]
  },
  {
   "cell_type": "code",
   "execution_count": 11,
   "id": "db0a2fea-fedc-41c6-955c-66e204801421",
   "metadata": {},
   "outputs": [],
   "source": [
    "d1 = { \"a\": \"some value\", \n",
    "      \"b\": [1, 2, 3, 4]\n",
    "      }"
   ]
  },
  {
   "cell_type": "code",
   "execution_count": 13,
   "id": "dd03d347-6bba-4bf7-a013-7a8a4b30020d",
   "metadata": {},
   "outputs": [
    {
     "data": {
      "text/plain": [
       "{'a': 'some value', 'b': [1, 2, 3, 4]}"
      ]
     },
     "execution_count": 13,
     "metadata": {},
     "output_type": "execute_result"
    }
   ],
   "source": [
    "d1"
   ]
  },
  {
   "cell_type": "markdown",
   "id": "3006087d-6f32-43c3-b2ce-18cc57d8b00b",
   "metadata": {},
   "source": [
    "# You can access, insert, or set elements using the same syntax asfor accessing elements of a list or tuple:\n"
   ]
  },
  {
   "cell_type": "code",
   "execution_count": 18,
   "id": "f2603901-81c9-4dc4-9311-7813fd631f62",
   "metadata": {},
   "outputs": [],
   "source": [
    "d1[7] = \"an integer\""
   ]
  },
  {
   "cell_type": "code",
   "execution_count": 20,
   "id": "ecfd8862-8b56-4a2b-b7e9-43af212cbda7",
   "metadata": {},
   "outputs": [
    {
     "data": {
      "text/plain": [
       "{'a': 'some value', 'b': [1, 2, 3, 4], 7: 'an integer'}"
      ]
     },
     "execution_count": 20,
     "metadata": {},
     "output_type": "execute_result"
    }
   ],
   "source": [
    "d1"
   ]
  },
  {
   "cell_type": "code",
   "execution_count": null,
   "id": "2fa0df15-af21-4adc-9949-b45ae02bcb74",
   "metadata": {},
   "outputs": [],
   "source": []
  },
  {
   "cell_type": "code",
   "execution_count": null,
   "id": "d090036a-b85c-4871-9608-7a5c80b270cb",
   "metadata": {},
   "outputs": [],
   "source": []
  }
 ],
 "metadata": {
  "kernelspec": {
   "display_name": "Python [conda env:base] *",
   "language": "python",
   "name": "conda-base-py"
  },
  "language_info": {
   "codemirror_mode": {
    "name": "ipython",
    "version": 3
   },
   "file_extension": ".py",
   "mimetype": "text/x-python",
   "name": "python",
   "nbconvert_exporter": "python",
   "pygments_lexer": "ipython3",
   "version": "3.11.7"
  }
 },
 "nbformat": 4,
 "nbformat_minor": 5
}
