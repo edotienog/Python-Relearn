{
 "cells": [
  {
   "cell_type": "markdown",
   "id": "fbe1c661-84db-4910-81cc-658f0bf86bf8",
   "metadata": {},
   "source": [
    "**Boolean** has only two possible values True and False"
   ]
  },
  {
   "cell_type": "code",
   "execution_count": 3,
   "id": "c0500329-22f9-46e1-b719-1d2f5870a265",
   "metadata": {},
   "outputs": [
    {
     "name": "stdout",
     "output_type": "stream",
     "text": [
      "True\n",
      "<class 'bool'>\n"
     ]
    }
   ],
   "source": [
    "x = True \n",
    "print(x)\n",
    "print(type(x))"
   ]
  },
  {
   "cell_type": "markdown",
   "id": "d1b5e3ee-479c-41e3-ab83-243b5d0d5fd5",
   "metadata": {},
   "source": [
    "Some bool operators a == b, a < b, a <= b, a ! = b, a > b, a >=b"
   ]
  },
  {
   "cell_type": "code",
   "execution_count": 4,
   "id": "10b69c48-d0d1-4abc-84c3-089880baba2e",
   "metadata": {},
   "outputs": [
    {
     "name": "stdout",
     "output_type": "stream",
     "text": [
      "Can a 19 year old run for president? False\n",
      "Can a 45 year old run for president? True\n"
     ]
    }
   ],
   "source": [
    "def can_run_for_president(age):\n",
    "    \"\"\" can someone of a given age run for president in the US?\"\"\"\n",
    "    #The US Constitution says you must be at least 35 years old\n",
    "    return age >=35\n",
    "\n",
    "print(\"Can a 19 year old run for president?\", can_run_for_president(19))\n",
    "print(\"Can a 45 year old run for president?\", can_run_for_president(45))"
   ]
  },
  {
   "cell_type": "code",
   "execution_count": 5,
   "id": "4e33ea95-df38-4ae0-b1e9-20aef06e6080",
   "metadata": {},
   "outputs": [
    {
     "data": {
      "text/plain": [
       "True"
      ]
     },
     "execution_count": 5,
     "metadata": {},
     "output_type": "execute_result"
    }
   ],
   "source": [
    "3.0 == 3"
   ]
  },
  {
   "cell_type": "code",
   "execution_count": 6,
   "id": "c50dc903-6c11-4b2e-b067-c9880b1948ce",
   "metadata": {},
   "outputs": [
    {
     "data": {
      "text/plain": [
       "False"
      ]
     },
     "execution_count": 6,
     "metadata": {},
     "output_type": "execute_result"
    }
   ],
   "source": [
    "'3' == 3"
   ]
  },
  {
   "cell_type": "markdown",
   "id": "1802553f-06cc-4325-a4b8-3ed20ce36163",
   "metadata": {},
   "source": [
    "NB: When comparing, it is advisable to use (two equal signs) == rather than using (single) =. Using one equal sign means assigning value to the variable. For instance, when n = 3, you're simply changing the value of n to be 3, but when we use a double equal sign, as in ==, it means we are weighing both sides by comparing the two values. "
   ]
  },
  {
   "cell_type": "markdown",
   "id": "bc41e8c8-c4fe-4731-be82-e9b799d3fc8e",
   "metadata": {},
   "source": [
    "Checking if a number is ood by checking that the modulus with 2 return 1"
   ]
  },
  {
   "cell_type": "code",
   "execution_count": null,
   "id": "561c0b84-4a37-4bbb-944f-e4b52872625a",
   "metadata": {},
   "outputs": [],
   "source": [
    "def is_odd(n):\n",
    "    return (n%2)==1 \n",
    "print(\"Is 100 odd?\", is_odd(100))\n",
    "print(\"Is -1 odd?\", is_odd(-1))"
   ]
  },
  {
   "cell_type": "markdown",
   "id": "cb23efc4-155c-4820-bd80-772e1b719d3a",
   "metadata": {},
   "source": [
    "Combining bool using \"and\", \"or\", \"not\""
   ]
  },
  {
   "cell_type": "raw",
   "id": "9afa1987-003c-4bcd-aca9-562a56311ec4",
   "metadata": {},
   "source": [
    "def can_run_for_president(age, is_natural_born_citizen):\n",
    "    \"\"\"Can someone of the the given age and citizen status run for \n",
    "    president in the US?\"\"\"\n",
    "    #The US constitution says you must be a natural born citizen *and* at least 35 years old\n",
    "    return is_natural_born_citizen and (age>=35)\n",
    "\n",
    "print(can_run_for_president(19, True))\n",
    "print(can_run_for_president(55, False))\n",
    "print(can_run_for_president(55, True))\n",
    "    "
   ]
  },
  {
   "cell_type": "code",
   "execution_count": 10,
   "id": "7ab58e70-1129-4005-b083-6a6b1dae5281",
   "metadata": {},
   "outputs": [
    {
     "data": {
      "text/plain": [
       "True"
      ]
     },
     "execution_count": 10,
     "metadata": {},
     "output_type": "execute_result"
    }
   ],
   "source": [
    "True or True and False"
   ]
  },
  {
   "cell_type": "markdown",
   "id": "e1b54fb5-0c8f-4892-bf9f-8598e4d9481b",
   "metadata": {},
   "source": [
    "In the next example, the order of operation is critical. Python first evaluates 'and' before 'or'. But the best way to tackle this is introduce brackets as shown in the proceeding example"
   ]
  },
  {
   "cell_type": "markdown",
   "id": "bba2dcb0-ed18-4af4-9a93-6d91f91aa08d",
   "metadata": {},
   "source": [
    "prepared_for_weather = have_umbrella or (rain_level < 5 and have_hood) or not (rain_level > 0 and is_workday)"
   ]
  },
  {
   "cell_type": "markdown",
   "id": "a48f7ae5-6245-41f0-af01-460dff69dd18",
   "metadata": {},
   "source": [
    "prepared_for_weather = (\n",
    "    have_umbrella \n",
    "    or ((rain_level < 5) and have_hood) \n",
    "    or (not (rain_level > 0 and is_workday))\n",
    ")"
   ]
  }
 ],
 "metadata": {
  "kernelspec": {
   "display_name": "Python 3 (ipykernel)",
   "language": "python",
   "name": "python3"
  },
  "language_info": {
   "codemirror_mode": {
    "name": "ipython",
    "version": 3
   },
   "file_extension": ".py",
   "mimetype": "text/x-python",
   "name": "python",
   "nbconvert_exporter": "python",
   "pygments_lexer": "ipython3",
   "version": "3.11.7"
  }
 },
 "nbformat": 4,
 "nbformat_minor": 5
}
