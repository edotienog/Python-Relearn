{
 "cells": [
  {
   "cell_type": "markdown",
   "id": "fe3627d5-0959-41ee-8bc4-6b54d9cac6b7",
   "metadata": {},
   "source": [
    "# LOOP AND LIST COMPREHENSION\n",
    "\n",
    "They are essential to repeatedly execute some codes: For example below"
   ]
  },
  {
   "cell_type": "code",
   "execution_count": 7,
   "id": "5e8cabf6-e91c-42c7-a1ae-19c4645842a1",
   "metadata": {},
   "outputs": [
    {
     "name": "stdout",
     "output_type": "stream",
     "text": [
      "Mercury Venus Earth Mars Jupiter Saturn Uranus Neptune "
     ]
    }
   ],
   "source": [
    "planets = ['Mercury', 'Venus', 'Earth', 'Mars', 'Jupiter', 'Saturn', 'Uranus', 'Neptune']\n",
    "for planet in planets:\n",
    "    print(planet, end = ' ')# Print all on same line "
   ]
  },
  {
   "cell_type": "markdown",
   "id": "853df6b3-d1b9-4433-aacf-362fda6526ba",
   "metadata": {},
   "source": [
    "# The for loop specifies:\n",
    "    - the variable name to use in (in the above case planet)\n",
    "    - a set of values to loop over (in this case, planets) \n",
    "\n",
    "The word in is used to connect the #var_name and the #Set of values we are looping ove.r"
   ]
  },
  {
   "cell_type": "code",
   "execution_count": 10,
   "id": "597c3918-2422-4a0f-b61d-cae27d146a57",
   "metadata": {},
   "outputs": [
    {
     "data": {
      "text/plain": [
       "360"
      ]
     },
     "execution_count": 10,
     "metadata": {},
     "output_type": "execute_result"
    }
   ],
   "source": [
    "multiplicands = (2, 2, 2, 3, 3, 5)\n",
    "product = 1\n",
    "for mult in multiplicands:\n",
    "    product = product * mult\n",
    "\n",
    "product"
   ]
  },
  {
   "cell_type": "markdown",
   "id": "bbd3dee7-faa7-47a9-90eb-b529a907285d",
   "metadata": {},
   "source": [
    "Looping over each character in a string:"
   ]
  },
  {
   "cell_type": "code",
   "execution_count": 14,
   "id": "94b5329b-b033-4dda-991f-987303f357b3",
   "metadata": {},
   "outputs": [
    {
     "name": "stdout",
     "output_type": "stream",
     "text": [
      "S H E L L O "
     ]
    }
   ],
   "source": [
    "s = 'SteganograpHy is the practicE of conceaLing a file, message, image, or video within another fiLe, message, image, Or video.'\n",
    "\n",
    "msg = ''\n",
    "# print all the uppercase letters in s, one at a time\n",
    "\n",
    "for char in s:\n",
    "    if char.isupper():\n",
    "        print(char, end =' ')"
   ]
  },
  {
   "cell_type": "code",
   "execution_count": 29,
   "id": "90de34b3-35d7-4b6f-b072-7ceaae5c5b9c",
   "metadata": {},
   "outputs": [
    {
     "name": "stdout",
     "output_type": "stream",
     "text": [
      "Help on built-in function isupper:\n",
      "\n",
      "isupper() method of builtins.str instance\n",
      "    Return True if the string is an uppercase string, False otherwise.\n",
      "    \n",
      "    A string is uppercase if all cased characters in the string are uppercase and\n",
      "    there is at least one cased character in the string.\n",
      "\n"
     ]
    }
   ],
   "source": [
    "help(char.isupper)"
   ]
  },
  {
   "cell_type": "markdown",
   "id": "ab558247-4c61-4369-997c-22073f27fb06",
   "metadata": {},
   "source": [
    "# Range \n",
    "\n",
    "Range () is function that return a sequence of numbers.It turns out to be very useful for writing loops\n",
    "\n",
    "For example, if we want to repeat some action let's say 9 times "
   ]
  },
  {
   "cell_type": "code",
   "execution_count": 24,
   "id": "80308fe5-f802-4dac-82f2-f0238cc22ff9",
   "metadata": {},
   "outputs": [
    {
     "name": "stdout",
     "output_type": "stream",
     "text": [
      "Doing important work. i= 0\n",
      "Doing important work. i= 1\n",
      "Doing important work. i= 2\n",
      "Doing important work. i= 3\n",
      "Doing important work. i= 4\n",
      "Doing important work. i= 5\n",
      "Doing important work. i= 6\n",
      "Doing important work. i= 7\n",
      "Doing important work. i= 8\n"
     ]
    }
   ],
   "source": [
    "for i in range(9):\n",
    "    print(\"Doing important work. i=\", i)"
   ]
  },
  {
   "cell_type": "markdown",
   "id": "a98e8f37-33ab-44ff-a93c-3e6cc43adf4e",
   "metadata": {},
   "source": [
    "# While loops \n",
    "\n",
    "Another type of loops in python is a while loop, which iterates until some condition is met: "
   ]
  },
  {
   "cell_type": "code",
   "execution_count": 6,
   "id": "807e0efa-60cc-4c51-b3b2-d61935f8fb24",
   "metadata": {},
   "outputs": [
    {
     "name": "stdout",
     "output_type": "stream",
     "text": [
      "0 1 2 3 4 5 6 7 8 9 "
     ]
    }
   ],
   "source": [
    "i = 0 \n",
    "while i < 10:\n",
    "    print(i, end = ' ')\n",
    "    i += 1 # Increase the value of i by 1"
   ]
  },
  {
   "cell_type": "markdown",
   "id": "149d0adf-a33f-4815-85fa-69dfc9ab1799",
   "metadata": {},
   "source": [
    "The argument for the while loop is evaluated as a boolean statement, and the loop is executed until the statement evaluates to False"
   ]
  },
  {
   "cell_type": "markdown",
   "id": "93713315-b393-462c-a7f4-785b9970ef23",
   "metadata": {},
   "source": [
    "# List Comprehensions \n",
    "\n",
    "List comprehension are one of python;s most beloved and unique feature. The easist way to understand them is probably to just look at a few examples: "
   ]
  },
  {
   "cell_type": "code",
   "execution_count": 14,
   "id": "5b1d9d39-2383-4129-ba6c-9c24a6e1db4a",
   "metadata": {},
   "outputs": [
    {
     "data": {
      "text/plain": [
       "[0, 1, 4, 9, 16, 25, 36, 49, 64, 81]"
      ]
     },
     "execution_count": 14,
     "metadata": {},
     "output_type": "execute_result"
    }
   ],
   "source": [
    "squares = [n**2 for n in range(10)]\n",
    "squares"
   ]
  },
  {
   "cell_type": "markdown",
   "id": "e2fcf1ad-16da-46af-ab67-c98e0e9795f6",
   "metadata": {},
   "source": [
    "Doing the same with list comprehension "
   ]
  },
  {
   "cell_type": "code",
   "execution_count": 20,
   "id": "603ddfab-7eff-464b-8085-9d70624e685f",
   "metadata": {},
   "outputs": [
    {
     "data": {
      "text/plain": [
       "[0, 1, 4, 9, 16, 25, 36, 49, 64, 81]"
      ]
     },
     "execution_count": 20,
     "metadata": {},
     "output_type": "execute_result"
    }
   ],
   "source": [
    "squares = []\n",
    "for n in range(10):\n",
    "    squares.append(n**2)\n",
    "\n",
    "squares"
   ]
  },
  {
   "cell_type": "markdown",
   "id": "aaec5258-400f-43df-8086-d7bf0c32e470",
   "metadata": {},
   "source": [
    "We "
   ]
  }
 ],
 "metadata": {
  "kernelspec": {
   "display_name": "Python [conda env:base] *",
   "language": "python",
   "name": "conda-base-py"
  },
  "language_info": {
   "codemirror_mode": {
    "name": "ipython",
    "version": 3
   },
   "file_extension": ".py",
   "mimetype": "text/x-python",
   "name": "python",
   "nbconvert_exporter": "python",
   "pygments_lexer": "ipython3",
   "version": "3.11.7"
  }
 },
 "nbformat": 4,
 "nbformat_minor": 5
}
