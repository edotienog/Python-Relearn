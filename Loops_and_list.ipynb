{
 "cells": [
  {
   "cell_type": "markdown",
   "id": "fe3627d5-0959-41ee-8bc4-6b54d9cac6b7",
   "metadata": {},
   "source": [
    "# LOOP AND LIST COMPREHENSION\n",
    "\n",
    "The are essential to repeatedly execute some code: Example below"
   ]
  },
  {
   "cell_type": "code",
   "execution_count": 7,
   "id": "5e8cabf6-e91c-42c7-a1ae-19c4645842a1",
   "metadata": {},
   "outputs": [
    {
     "name": "stdout",
     "output_type": "stream",
     "text": [
      "Mercury Venus Earth Mars Jupiter Saturn Uranus Neptune "
     ]
    }
   ],
   "source": [
    "planets = ['Mercury', 'Venus', 'Earth', 'Mars', 'Jupiter', 'Saturn', 'Uranus', 'Neptune']\n",
    "for planet in planets:\n",
    "    print(planet, end = ' ')# Print all on same line "
   ]
  },
  {
   "cell_type": "markdown",
   "id": "853df6b3-d1b9-4433-aacf-362fda6526ba",
   "metadata": {},
   "source": [
    "# The for loop specifies:\n",
    "    - the variable name to use in (in the above case planet)\n",
    "    - a set of value to loop over (in this case, planet \n",
    "\n",
    "The word in is use to connect the #var_name and the #Set of value we are looping over"
   ]
  },
  {
   "cell_type": "code",
   "execution_count": 10,
   "id": "597c3918-2422-4a0f-b61d-cae27d146a57",
   "metadata": {},
   "outputs": [
    {
     "data": {
      "text/plain": [
       "360"
      ]
     },
     "execution_count": 10,
     "metadata": {},
     "output_type": "execute_result"
    }
   ],
   "source": [
    "multiplicands = (2, 2, 2, 3, 3, 5)\n",
    "product = 1\n",
    "for mult in multiplicands:\n",
    "    product = product * mult\n",
    "\n",
    "product"
   ]
  },
  {
   "cell_type": "markdown",
   "id": "bbd3dee7-faa7-47a9-90eb-b529a907285d",
   "metadata": {},
   "source": [
    "Looping over each character in a string:"
   ]
  },
  {
   "cell_type": "code",
   "execution_count": 14,
   "id": "94b5329b-b033-4dda-991f-987303f357b3",
   "metadata": {},
   "outputs": [
    {
     "name": "stdout",
     "output_type": "stream",
     "text": [
      "S H E L L O "
     ]
    }
   ],
   "source": [
    "s = 'SteganograpHy is the practicE of conceaLing a file, message, image, or video within another fiLe, message, image, Or video.'\n",
    "\n",
    "msg = ''\n",
    "# print all the uppercase letters in s, one at a time\n",
    "\n",
    "for char in s:\n",
    "    if char.isupper():\n",
    "        print(char, end =' ')"
   ]
  },
  {
   "cell_type": "code",
   "execution_count": 29,
   "id": "90de34b3-35d7-4b6f-b072-7ceaae5c5b9c",
   "metadata": {},
   "outputs": [
    {
     "name": "stdout",
     "output_type": "stream",
     "text": [
      "Help on built-in function isupper:\n",
      "\n",
      "isupper() method of builtins.str instance\n",
      "    Return True if the string is an uppercase string, False otherwise.\n",
      "    \n",
      "    A string is uppercase if all cased characters in the string are uppercase and\n",
      "    there is at least one cased character in the string.\n",
      "\n"
     ]
    }
   ],
   "source": [
    "help(char.isupper)"
   ]
  },
  {
   "cell_type": "code",
   "execution_count": null,
   "id": "43d3412e-2025-4fd4-8a8a-2a94119703c6",
   "metadata": {},
   "outputs": [],
   "source": []
  }
 ],
 "metadata": {
  "kernelspec": {
   "display_name": "Python [conda env:base] *",
   "language": "python",
   "name": "conda-base-py"
  },
  "language_info": {
   "codemirror_mode": {
    "name": "ipython",
    "version": 3
   },
   "file_extension": ".py",
   "mimetype": "text/x-python",
   "name": "python",
   "nbconvert_exporter": "python",
   "pygments_lexer": "ipython3",
   "version": "3.11.7"
  }
 },
 "nbformat": 4,
 "nbformat_minor": 5
}
