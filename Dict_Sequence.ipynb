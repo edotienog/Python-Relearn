{
 "cells": [
  {
   "cell_type": "markdown",
   "id": "8648604f-f0ce-44ca-b05c-1d201c5dc408",
   "metadata": {},
   "source": [
    "# Creating Dictionaries from sequences "
   ]
  },
  {
   "cell_type": "markdown",
   "id": "24cc8c84-e523-454c-9e62-6d8478eeac92",
   "metadata": {},
   "source": [
    "# pair up two sequences in element wise in a dictionary where you can write the code in this manner:\n",
    "\n",
    "mapping = {}\n",
    "for key, value in zip(key_list, value_list):\n",
    "    mapping[key]= value\n",
    "\n",
    "\n",
    "tuples = zip(range(5), reversed(range(5)))"
   ]
  },
  {
   "cell_type": "code",
   "execution_count": 4,
   "id": "4fa59b2b-deac-4112-81f7-0535659c32f5",
   "metadata": {},
   "outputs": [],
   "source": [
    "tuples = zip(range(5), reversed(range"
   ]
  },
  {
   "cell_type": "code",
   "execution_count": 6,
   "id": "71224c63-7602-4c42-89bc-1d15ed789c0e",
   "metadata": {},
   "outputs": [
    {
     "data": {
      "text/plain": [
       "<zip at 0x244003ea580>"
      ]
     },
     "execution_count": 6,
     "metadata": {},
     "output_type": "execute_result"
    }
   ],
   "source": [
    "tuples"
   ]
  },
  {
   "cell_type": "code",
   "execution_count": 8,
   "id": "155db546-89d7-41c5-ab15-e821a8800f02",
   "metadata": {},
   "outputs": [],
   "source": [
    "mapping = dict(tuples)"
   ]
  },
  {
   "cell_type": "code",
   "execution_count": 10,
   "id": "061a7398-fde5-49ac-af15-c1cd1db515db",
   "metadata": {},
   "outputs": [
    {
     "data": {
      "text/plain": [
       "{0: 4, 1: 3, 2: 2, 3: 1, 4: 0}"
      ]
     },
     "execution_count": 10,
     "metadata": {},
     "output_type": "execute_result"
    }
   ],
   "source": [
    "mapping"
   ]
  },
  {
   "cell_type": "markdown",
   "id": "0486a16b-c18e-470b-bb8d-49d109d3dfb8",
   "metadata": {},
   "source": [
    "# Default values \n",
    "\n",
    "if key is some_dict:\n",
    "    value = some_dict[key]\n",
    "else: \n",
    "    value = default_value \n",
    "\n",
    "# In this dictionary, it GET and POP can take a default value to be returned so that the above if-else block can be written as:\n",
    "\n",
    "value = some_dict.get(key, default_value)\n",
    "\n",
    "# By default the GET will return None if the key is not present, while POP will raise an exception.\n",
    "\n",
    "# E.g let's categorizing a list of words by the first letter as a dictionary of lists:"
   ]
  },
  {
   "cell_type": "code",
   "execution_count": 29,
   "id": "2819d45b-417f-4745-b4d3-20ff0c92034e",
   "metadata": {},
   "outputs": [
    {
     "ename": "SyntaxError",
     "evalue": "expected ':' (1844817013.py, line 7)",
     "output_type": "error",
     "traceback": [
      "\u001b[1;36m  Cell \u001b[1;32mIn[29], line 7\u001b[1;36m\u001b[0m\n\u001b[1;33m    if letter not in by_letter\u001b[0m\n\u001b[1;37m                              ^\u001b[0m\n\u001b[1;31mSyntaxError\u001b[0m\u001b[1;31m:\u001b[0m expected ':'\n"
     ]
    }
   ],
   "source": [
    "words = ['apple', 'bat', 'bar', 'atom', 'book']\n",
    "\n",
    "by_letter={}\n",
    "\n",
    "for word in words:\n",
    "    letter = word[0]\n",
    "    if letter not in by_letter:\n",
    "        by_letter[letter] = [word]\n",
    "    else:\n",
    "        by_letter[ketter].append9(word)\n",
    "\n",
    "by_letter"
   ]
  },
  {
   "cell_type": "code",
   "execution_count": null,
   "id": "f9b23ca9-845c-4d81-bd6f-c35bf6acf840",
   "metadata": {},
   "outputs": [],
   "source": []
  }
 ],
 "metadata": {
  "kernelspec": {
   "display_name": "Python [conda env:base] *",
   "language": "python",
   "name": "conda-base-py"
  },
  "language_info": {
   "codemirror_mode": {
    "name": "ipython",
    "version": 3
   },
   "file_extension": ".py",
   "mimetype": "text/x-python",
   "name": "python",
   "nbconvert_exporter": "python",
   "pygments_lexer": "ipython3",
   "version": "3.11.7"
  }
 },
 "nbformat": 4,
 "nbformat_minor": 5
}
