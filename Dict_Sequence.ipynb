{
 "cells": [
  {
   "cell_type": "markdown",
   "id": "8648604f-f0ce-44ca-b05c-1d201c5dc408",
   "metadata": {},
   "source": [
    "# Creating Dictionaries from sequences "
   ]
  },
  {
   "cell_type": "markdown",
   "id": "e9a98832-1265-4e79-ac2e-5dffab3d54ae",
   "metadata": {},
   "source": [
    "# pair up two sequences in element wise in a dictionary where you can write the code in this manner:\n",
    "\n",
    "mapping = {}\n",
    "for key, value in zip(key_list, value_list):\n",
    "    mapping[key]= value\n",
    "\n",
    "\n",
    "tuples = zip(range(5), reversed(range(5)))"
   ]
  },
  {
   "cell_type": "code",
   "execution_count": 4,
   "id": "4fa59b2b-deac-4112-81f7-0535659c32f5",
   "metadata": {},
   "outputs": [],
   "source": [
    "tuples = zip(range(5), reversed(range"
   ]
  },
  {
   "cell_type": "code",
   "execution_count": 6,
   "id": "71224c63-7602-4c42-89bc-1d15ed789c0e",
   "metadata": {},
   "outputs": [
    {
     "data": {
      "text/plain": [
       "<zip at 0x244003ea580>"
      ]
     },
     "execution_count": 6,
     "metadata": {},
     "output_type": "execute_result"
    }
   ],
   "source": [
    "tuples"
   ]
  },
  {
   "cell_type": "code",
   "execution_count": 8,
   "id": "155db546-89d7-41c5-ab15-e821a8800f02",
   "metadata": {},
   "outputs": [],
   "source": [
    "mapping = dict(tuples)"
   ]
  },
  {
   "cell_type": "code",
   "execution_count": 10,
   "id": "061a7398-fde5-49ac-af15-c1cd1db515db",
   "metadata": {},
   "outputs": [
    {
     "data": {
      "text/plain": [
       "{0: 4, 1: 3, 2: 2, 3: 1, 4: 0}"
      ]
     },
     "execution_count": 10,
     "metadata": {},
     "output_type": "execute_result"
    }
   ],
   "source": [
    "mapping"
   ]
  },
  {
   "cell_type": "code",
   "execution_count": null,
   "id": "5678a618-ddd7-493e-b149-636564f51c47",
   "metadata": {},
   "outputs": [],
   "source": []
  }
 ],
 "metadata": {
  "kernelspec": {
   "display_name": "Python [conda env:base] *",
   "language": "python",
   "name": "conda-base-py"
  },
  "language_info": {
   "codemirror_mode": {
    "name": "ipython",
    "version": 3
   },
   "file_extension": ".py",
   "mimetype": "text/x-python",
   "name": "python",
   "nbconvert_exporter": "python",
   "pygments_lexer": "ipython3",
   "version": "3.11.7"
  }
 },
 "nbformat": 4,
 "nbformat_minor": 5
}
