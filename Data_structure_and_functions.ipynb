{
 "cells": [
  {
   "cell_type": "markdown",
   "id": "4c23f55d-0fe1-48ac-b19c-a30bd52a8d52",
   "metadata": {},
   "source": [
    "# Built-in Data Structures, Functions, and Files \n",
    "\n",
    "- Python Libraries such as pandas and NumPy are useful in handling large datasets.\n",
    "- Data structure include tuples, lists, dictionaries and sets \n",
    "\n"
   ]
  },
  {
   "cell_type": "code",
   "execution_count": 5,
   "id": "13ed00bc-e218-4718-80f2-49a18577bc6c",
   "metadata": {},
   "outputs": [
    {
     "data": {
      "text/plain": [
       "(1, 3, 5, 7, 11, 99)"
      ]
     },
     "execution_count": 5,
     "metadata": {},
     "output_type": "execute_result"
    }
   ],
   "source": [
    "# Data structure and sequence \n",
    "\n",
    "tup = (1, 3, 5, 7, 11, 99) # created using values and coma separated values \n",
    "tup"
   ]
  },
  {
   "cell_type": "code",
   "execution_count": 2,
   "id": "eebb665e-eacc-46bf-b036-6c90d3324d43",
   "metadata": {},
   "outputs": [
    {
     "data": {
      "text/plain": [
       "(1, 3, 4, 1, 9)"
      ]
     },
     "execution_count": 2,
     "metadata": {},
     "output_type": "execute_result"
    }
   ],
   "source": [
    "# We can also omit the brackets\n",
    "\n",
    "tup = 1, 3, 4, 1, 9, \n",
    "tup"
   ]
  },
  {
   "cell_type": "code",
   "execution_count": 4,
   "id": "8e6e16f8-c304-40e6-a6e5-a83909391ece",
   "metadata": {},
   "outputs": [
    {
     "data": {
      "text/plain": [
       "(9, 8, 9)"
      ]
     },
     "execution_count": 4,
     "metadata": {},
     "output_type": "execute_result"
    }
   ],
   "source": [
    "# We can also convert/change sequence or iterator to tuple by invoking tuple \n",
    "\n",
    "tuple([9, 8, 9,])"
   ]
  },
  {
   "cell_type": "code",
   "execution_count": 6,
   "id": "a648a54d-2074-4933-a990-7c58e44a1066",
   "metadata": {},
   "outputs": [
    {
     "data": {
      "text/plain": [
       "('s', 't', 'r', 'i', 'n', 'g')"
      ]
     },
     "execution_count": 6,
     "metadata": {},
     "output_type": "execute_result"
    }
   ],
   "source": [
    "tup = tuple('string')\n",
    "tup"
   ]
  },
  {
   "cell_type": "code",
   "execution_count": 8,
   "id": "98dd2c36-2dcd-4d77-aa46-c5b59f35e03d",
   "metadata": {},
   "outputs": [
    {
     "data": {
      "text/plain": [
       "'s'"
      ]
     },
     "execution_count": 8,
     "metadata": {},
     "output_type": "execute_result"
    }
   ],
   "source": [
    "tup[0]"
   ]
  },
  {
   "cell_type": "code",
   "execution_count": 10,
   "id": "01bcbfb3-867d-4599-92b7-5d786bec86d9",
   "metadata": {},
   "outputs": [],
   "source": [
    "nested_tup = (4, 5, 6), (8, 1)"
   ]
  },
  {
   "cell_type": "code",
   "execution_count": 12,
   "id": "9e10ac99-565b-43a3-8698-ef32b32d11c8",
   "metadata": {},
   "outputs": [
    {
     "data": {
      "text/plain": [
       "((4, 5, 6), (8, 1))"
      ]
     },
     "execution_count": 12,
     "metadata": {},
     "output_type": "execute_result"
    }
   ],
   "source": [
    "nested_tup"
   ]
  },
  {
   "cell_type": "code",
   "execution_count": 16,
   "id": "32b7c262-6fe6-45f9-a9a0-d80fbce08ebb",
   "metadata": {},
   "outputs": [
    {
     "data": {
      "text/plain": [
       "(8, 1)"
      ]
     },
     "execution_count": 16,
     "metadata": {},
     "output_type": "execute_result"
    }
   ],
   "source": [
    "nested_tup[1]"
   ]
  },
  {
   "cell_type": "code",
   "execution_count": 18,
   "id": "36277082-0355-418c-bdbf-2cda99f7c66f",
   "metadata": {},
   "outputs": [
    {
     "data": {
      "text/plain": [
       "(4, 5, 6)"
      ]
     },
     "execution_count": 18,
     "metadata": {},
     "output_type": "execute_result"
    }
   ],
   "source": [
    "nested_tup[0]"
   ]
  },
  {
   "cell_type": "code",
   "execution_count": null,
   "id": "07b460a6-fab2-4556-8cf0-7b07915699c4",
   "metadata": {},
   "outputs": [],
   "source": []
  }
 ],
 "metadata": {
  "kernelspec": {
   "display_name": "Python [conda env:base] *",
   "language": "python",
   "name": "conda-base-py"
  },
  "language_info": {
   "codemirror_mode": {
    "name": "ipython",
    "version": 3
   },
   "file_extension": ".py",
   "mimetype": "text/x-python",
   "name": "python",
   "nbconvert_exporter": "python",
   "pygments_lexer": "ipython3",
   "version": "3.11.7"
  }
 },
 "nbformat": 4,
 "nbformat_minor": 5
}
