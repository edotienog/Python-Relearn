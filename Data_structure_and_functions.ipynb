{
 "cells": [
  {
   "cell_type": "markdown",
   "id": "4c23f55d-0fe1-48ac-b19c-a30bd52a8d52",
   "metadata": {},
   "source": [
    "# Built-in Data Structures, Functions, and Files \n",
    "\n",
    "- Python Libraries such as pandas and NumPy are useful in handling large datasets.\n",
    "- Data structure include tuples, lists, dictionaries and sets \n",
    "\n"
   ]
  },
  {
   "cell_type": "code",
   "execution_count": 5,
   "id": "13ed00bc-e218-4718-80f2-49a18577bc6c",
   "metadata": {},
   "outputs": [
    {
     "data": {
      "text/plain": [
       "(1, 3, 5, 7, 11, 99)"
      ]
     },
     "execution_count": 5,
     "metadata": {},
     "output_type": "execute_result"
    }
   ],
   "source": [
    "# Data structure and sequence \n",
    "\n",
    "tup = (1, 3, 5, 7, 11, 99) # created using values and coma separated values \n",
    "tup"
   ]
  },
  {
   "cell_type": "code",
   "execution_count": 2,
   "id": "eebb665e-eacc-46bf-b036-6c90d3324d43",
   "metadata": {},
   "outputs": [
    {
     "data": {
      "text/plain": [
       "(1, 3, 4, 1, 9)"
      ]
     },
     "execution_count": 2,
     "metadata": {},
     "output_type": "execute_result"
    }
   ],
   "source": [
    "# We can also omit the brackets\n",
    "\n",
    "tup = 1, 3, 4, 1, 9, \n",
    "tup"
   ]
  },
  {
   "cell_type": "code",
   "execution_count": 4,
   "id": "8e6e16f8-c304-40e6-a6e5-a83909391ece",
   "metadata": {},
   "outputs": [
    {
     "data": {
      "text/plain": [
       "(9, 8, 9)"
      ]
     },
     "execution_count": 4,
     "metadata": {},
     "output_type": "execute_result"
    }
   ],
   "source": [
    "# We can also convert/change sequence or iterator to tuple by invoking tuple \n",
    "\n",
    "tuple([9, 8, 9,])"
   ]
  },
  {
   "cell_type": "code",
   "execution_count": 6,
   "id": "a648a54d-2074-4933-a990-7c58e44a1066",
   "metadata": {},
   "outputs": [
    {
     "data": {
      "text/plain": [
       "('s', 't', 'r', 'i', 'n', 'g')"
      ]
     },
     "execution_count": 6,
     "metadata": {},
     "output_type": "execute_result"
    }
   ],
   "source": [
    "tup = tuple('string')\n",
    "tup"
   ]
  },
  {
   "cell_type": "code",
   "execution_count": 8,
   "id": "98dd2c36-2dcd-4d77-aa46-c5b59f35e03d",
   "metadata": {},
   "outputs": [
    {
     "data": {
      "text/plain": [
       "'s'"
      ]
     },
     "execution_count": 8,
     "metadata": {},
     "output_type": "execute_result"
    }
   ],
   "source": [
    "tup[0]"
   ]
  },
  {
   "cell_type": "code",
   "execution_count": 10,
   "id": "01bcbfb3-867d-4599-92b7-5d786bec86d9",
   "metadata": {},
   "outputs": [],
   "source": [
    "nested_tup = (4, 5, 6), (8, 1)"
   ]
  },
  {
   "cell_type": "code",
   "execution_count": 12,
   "id": "9e10ac99-565b-43a3-8698-ef32b32d11c8",
   "metadata": {},
   "outputs": [
    {
     "data": {
      "text/plain": [
       "((4, 5, 6), (8, 1))"
      ]
     },
     "execution_count": 12,
     "metadata": {},
     "output_type": "execute_result"
    }
   ],
   "source": [
    "nested_tup"
   ]
  },
  {
   "cell_type": "code",
   "execution_count": 16,
   "id": "32b7c262-6fe6-45f9-a9a0-d80fbce08ebb",
   "metadata": {},
   "outputs": [
    {
     "data": {
      "text/plain": [
       "(8, 1)"
      ]
     },
     "execution_count": 16,
     "metadata": {},
     "output_type": "execute_result"
    }
   ],
   "source": [
    "nested_tup[1]"
   ]
  },
  {
   "cell_type": "code",
   "execution_count": 18,
   "id": "36277082-0355-418c-bdbf-2cda99f7c66f",
   "metadata": {},
   "outputs": [
    {
     "data": {
      "text/plain": [
       "(4, 5, 6)"
      ]
     },
     "execution_count": 18,
     "metadata": {},
     "output_type": "execute_result"
    }
   ],
   "source": [
    "nested_tup[0]"
   ]
  },
  {
   "cell_type": "markdown",
   "id": "3552dec2-6fb8-4acc-bfa1-b749f6d47116",
   "metadata": {},
   "source": [
    "# Once the tuple is create it's not possible to modify which object is stored in each slot: "
   ]
  },
  {
   "cell_type": "code",
   "execution_count": 6,
   "id": "5ffdc165-61f6-4e35-ab60-1e86a9e4821a",
   "metadata": {},
   "outputs": [
    {
     "ename": "TypeError",
     "evalue": "'tuple' object does not support item assignment",
     "output_type": "error",
     "traceback": [
      "\u001b[1;31m---------------------------------------------------------------------------\u001b[0m",
      "\u001b[1;31mTypeError\u001b[0m                                 Traceback (most recent call last)",
      "Cell \u001b[1;32mIn[6], line 3\u001b[0m\n\u001b[0;32m      1\u001b[0m tup \u001b[38;5;241m=\u001b[39m \u001b[38;5;28mtuple\u001b[39m([\u001b[38;5;124m'\u001b[39m\u001b[38;5;124mfoo\u001b[39m\u001b[38;5;124m'\u001b[39m, [\u001b[38;5;241m1\u001b[39m, \u001b[38;5;241m2\u001b[39m], \u001b[38;5;28;01mTrue\u001b[39;00m])\n\u001b[1;32m----> 3\u001b[0m tup[\u001b[38;5;241m2\u001b[39m] \u001b[38;5;241m=\u001b[39m \u001b[38;5;28;01mFalse\u001b[39;00m\n",
      "\u001b[1;31mTypeError\u001b[0m: 'tuple' object does not support item assignment"
     ]
    }
   ],
   "source": [
    "tup = tuple(['foo', [1, 2], True])\n",
    "\n",
    "tup[2] = False"
   ]
  },
  {
   "cell_type": "markdown",
   "id": "3603b979-618e-45fd-8926-b338e25b0c9a",
   "metadata": {},
   "source": [
    "If an object inside a tuple is mutable, such as a list, you can modify it in place \n"
   ]
  },
  {
   "cell_type": "code",
   "execution_count": 9,
   "id": "5276fc13-aec9-4f9c-b801-084d82f68d3f",
   "metadata": {},
   "outputs": [
    {
     "data": {
      "text/plain": [
       "('foo', [1, 2, 3], True)"
      ]
     },
     "execution_count": 9,
     "metadata": {},
     "output_type": "execute_result"
    }
   ],
   "source": [
    "tup[1].append(3)\n",
    "\n",
    "tup"
   ]
  },
  {
   "cell_type": "markdown",
   "id": "6dbab3ce-7f96-445b-baf1-1a78e9bb60b8",
   "metadata": {},
   "source": [
    "# The + operate is useful for concatenate tuples "
   ]
  },
  {
   "cell_type": "code",
   "execution_count": 14,
   "id": "f7c9376f-0d47-4b82-b41b-1af072436801",
   "metadata": {},
   "outputs": [
    {
     "data": {
      "text/plain": [
       "(4, None, 'foo', 6, 0, 'bar')"
      ]
     },
     "execution_count": 14,
     "metadata": {},
     "output_type": "execute_result"
    }
   ],
   "source": [
    "(4, None, 'foo') + (6,0) + ('bar',)"
   ]
  },
  {
   "cell_type": "markdown",
   "id": "8958bf71-b980-4fa0-89d9-e83439721d47",
   "metadata": {},
   "source": [
    "# However Multiplying a tuple by an integer, as with lists, has the effect of concatenating that many copies of the tuples "
   ]
  },
  {
   "cell_type": "code",
   "execution_count": 17,
   "id": "b4277978-14d3-4406-aacc-207f63fa45f3",
   "metadata": {},
   "outputs": [
    {
     "data": {
      "text/plain": [
       "('foo', 'bar', 'foo', 'bar', 'foo', 'bar', 'foo', 'bar')"
      ]
     },
     "execution_count": 17,
     "metadata": {},
     "output_type": "execute_result"
    }
   ],
   "source": [
    "('foo', 'bar') * 4"
   ]
  },
  {
   "cell_type": "markdown",
   "id": "8849cace-3194-4b40-9695-6d06fa6105eb",
   "metadata": {},
   "source": [
    "# Unpackign tuple "
   ]
  },
  {
   "cell_type": "code",
   "execution_count": 24,
   "id": "65657d8e-2585-4d5f-b112-529d77dd1a0d",
   "metadata": {},
   "outputs": [
    {
     "data": {
      "text/plain": [
       "5"
      ]
     },
     "execution_count": 24,
     "metadata": {},
     "output_type": "execute_result"
    }
   ],
   "source": [
    "tup = (4, 5, 6)\n",
    "\n",
    "a, b, c = tup\n",
    "\n",
    "b"
   ]
  },
  {
   "cell_type": "code",
   "execution_count": 26,
   "id": "5527d638-369e-4fbe-a527-582a25e7f36a",
   "metadata": {},
   "outputs": [
    {
     "data": {
      "text/plain": [
       "6"
      ]
     },
     "execution_count": 26,
     "metadata": {},
     "output_type": "execute_result"
    }
   ],
   "source": [
    "c"
   ]
  },
  {
   "cell_type": "code",
   "execution_count": 28,
   "id": "d3938bc6-b289-42f7-87fc-35770523894f",
   "metadata": {},
   "outputs": [
    {
     "data": {
      "text/plain": [
       "4"
      ]
     },
     "execution_count": 28,
     "metadata": {},
     "output_type": "execute_result"
    }
   ],
   "source": [
    "a"
   ]
  },
  {
   "cell_type": "markdown",
   "id": "949be3d1-7ec4-49b5-9200-8b209e08b194",
   "metadata": {},
   "source": [
    "# We can even unpack sequence with nested tuples \n"
   ]
  },
  {
   "cell_type": "code",
   "execution_count": 31,
   "id": "20ff763f-6499-4976-81a3-d7725159ef7a",
   "metadata": {},
   "outputs": [
    {
     "data": {
      "text/plain": [
       "7"
      ]
     },
     "execution_count": 31,
     "metadata": {},
     "output_type": "execute_result"
    }
   ],
   "source": [
    "tup = 4, 5, (6, 7)\n",
    "\n",
    "a, b, (c, d) = tup\n",
    "\n",
    "d"
   ]
  },
  {
   "cell_type": "markdown",
   "id": "80280140-5881-41eb-9588-f1f5119fea6e",
   "metadata": {},
   "source": [
    "# From there we can use the functionality to swap variable names"
   ]
  },
  {
   "cell_type": "code",
   "execution_count": 34,
   "id": "3b110ff0-3144-44ed-8abd-9a4347e60926",
   "metadata": {},
   "outputs": [],
   "source": [
    "tmp = a \n",
    "\n",
    "a = b\n",
    "\n",
    "b = tmp"
   ]
  },
  {
   "cell_type": "code",
   "execution_count": 36,
   "id": "f2247bb7-d02f-4134-b511-e590beebdb26",
   "metadata": {},
   "outputs": [],
   "source": [
    "# For example swaping in python\n"
   ]
  },
  {
   "cell_type": "code",
   "execution_count": 38,
   "id": "54c07bf4-10b2-4ca8-9629-54ee017a5ed9",
   "metadata": {},
   "outputs": [
    {
     "data": {
      "text/plain": [
       "1"
      ]
     },
     "execution_count": 38,
     "metadata": {},
     "output_type": "execute_result"
    }
   ],
   "source": [
    "a, b = 1, 2\n",
    "\n",
    "a"
   ]
  },
  {
   "cell_type": "code",
   "execution_count": 40,
   "id": "ccb75e7e-642b-45a8-a9f2-c899fe9d1599",
   "metadata": {},
   "outputs": [
    {
     "data": {
      "text/plain": [
       "2"
      ]
     },
     "execution_count": 40,
     "metadata": {},
     "output_type": "execute_result"
    }
   ],
   "source": [
    "b"
   ]
  },
  {
   "cell_type": "code",
   "execution_count": 42,
   "id": "0a4a5120-26e8-4605-b3bd-63ec38daa2cf",
   "metadata": {},
   "outputs": [
    {
     "data": {
      "text/plain": [
       "2"
      ]
     },
     "execution_count": 42,
     "metadata": {},
     "output_type": "execute_result"
    }
   ],
   "source": [
    "b, a = a, b\n",
    "\n",
    "a"
   ]
  },
  {
   "cell_type": "code",
   "execution_count": 44,
   "id": "95132748-1d54-4f96-8ef0-c960aa3b95fd",
   "metadata": {},
   "outputs": [
    {
     "data": {
      "text/plain": [
       "1"
      ]
     },
     "execution_count": 44,
     "metadata": {},
     "output_type": "execute_result"
    }
   ],
   "source": [
    "b"
   ]
  },
  {
   "cell_type": "markdown",
   "id": "e6293f90-0b7c-4603-b108-046e4130d70b",
   "metadata": {},
   "source": [
    "# A common use of variable unpacking is iterating over sequences of tuples or lists: "
   ]
  },
  {
   "cell_type": "code",
   "execution_count": 47,
   "id": "f6e0e8dd-866c-4089-91df-b938b5add911",
   "metadata": {},
   "outputs": [
    {
     "name": "stdout",
     "output_type": "stream",
     "text": [
      "a=1, b=2, c=3\n",
      "a=4, b=5, c=6\n",
      "a=7, b=8, c=9\n"
     ]
    }
   ],
   "source": [
    "seq = [(1, 2, 3),(4, 5, 6), (7, 8, 9)]\n",
    "\n",
    "for a, b, c in seq: \n",
    "    print(f'a={a}, b={b}, c={c}')"
   ]
  },
  {
   "cell_type": "markdown",
   "id": "a19fdf7e-6769-440e-98ca-6877da252d1d",
   "metadata": {},
   "source": [
    "# Plucking using a special syntax known a *rest "
   ]
  },
  {
   "cell_type": "code",
   "execution_count": 10,
   "id": "2b5d6743-c2d1-4d62-a026-cf93561bab86",
   "metadata": {},
   "outputs": [
    {
     "data": {
      "text/plain": [
       "(1, 2, 3, 4, 5)"
      ]
     },
     "execution_count": 10,
     "metadata": {},
     "output_type": "execute_result"
    }
   ],
   "source": [
    "values = 1, 2, 3, 4, 5\n",
    "\n",
    "a, b, *rest = values\n",
    "\n",
    "values\n"
   ]
  },
  {
   "cell_type": "code",
   "execution_count": null,
   "id": "b347e96d-c072-43ec-aab0-96f123e3ff14",
   "metadata": {},
   "outputs": [],
   "source": []
  }
 ],
 "metadata": {
  "kernelspec": {
   "display_name": "Python [conda env:base] *",
   "language": "python",
   "name": "conda-base-py"
  },
  "language_info": {
   "codemirror_mode": {
    "name": "ipython",
    "version": 3
   },
   "file_extension": ".py",
   "mimetype": "text/x-python",
   "name": "python",
   "nbconvert_exporter": "python",
   "pygments_lexer": "ipython3",
   "version": "3.11.7"
  }
 },
 "nbformat": 4,
 "nbformat_minor": 5
}
