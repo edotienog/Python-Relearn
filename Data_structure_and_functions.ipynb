{
 "cells": [
  {
   "cell_type": "markdown",
   "id": "4c23f55d-0fe1-48ac-b19c-a30bd52a8d52",
   "metadata": {},
   "source": [
    "# Built-in Data Structures, Functions, and Files \n",
    "\n",
    "- Python Libraries such as pandas and NumPy are useful in handling large datasets.\n",
    "- Data structure include tuples, lists, dictionaries and sets \n",
    "\n"
   ]
  },
  {
   "cell_type": "code",
   "execution_count": 5,
   "id": "13ed00bc-e218-4718-80f2-49a18577bc6c",
   "metadata": {},
   "outputs": [
    {
     "data": {
      "text/plain": [
       "(1, 3, 5, 7, 11, 99)"
      ]
     },
     "execution_count": 5,
     "metadata": {},
     "output_type": "execute_result"
    }
   ],
   "source": [
    "# Data structure and sequence \n",
    "\n",
    "tup = (1, 3, 5, 7, 11, 99) # created using values and coma separated values \n",
    "tup"
   ]
  },
  {
   "cell_type": "code",
   "execution_count": 2,
   "id": "eebb665e-eacc-46bf-b036-6c90d3324d43",
   "metadata": {},
   "outputs": [
    {
     "data": {
      "text/plain": [
       "(1, 3, 4, 1, 9)"
      ]
     },
     "execution_count": 2,
     "metadata": {},
     "output_type": "execute_result"
    }
   ],
   "source": [
    "# We can also omit the brackets\n",
    "\n",
    "tup = 1, 3, 4, 1, 9, \n",
    "tup"
   ]
  },
  {
   "cell_type": "code",
   "execution_count": 4,
   "id": "8e6e16f8-c304-40e6-a6e5-a83909391ece",
   "metadata": {},
   "outputs": [
    {
     "data": {
      "text/plain": [
       "(9, 8, 9)"
      ]
     },
     "execution_count": 4,
     "metadata": {},
     "output_type": "execute_result"
    }
   ],
   "source": [
    "# We can also convert/change sequence or iterator to tuple by invoking tuple \n",
    "\n",
    "tuple([9, 8, 9,])"
   ]
  },
  {
   "cell_type": "code",
   "execution_count": 6,
   "id": "a648a54d-2074-4933-a990-7c58e44a1066",
   "metadata": {},
   "outputs": [
    {
     "data": {
      "text/plain": [
       "('s', 't', 'r', 'i', 'n', 'g')"
      ]
     },
     "execution_count": 6,
     "metadata": {},
     "output_type": "execute_result"
    }
   ],
   "source": [
    "tup = tuple('string')\n",
    "tup"
   ]
  },
  {
   "cell_type": "code",
   "execution_count": 8,
   "id": "98dd2c36-2dcd-4d77-aa46-c5b59f35e03d",
   "metadata": {},
   "outputs": [
    {
     "data": {
      "text/plain": [
       "'s'"
      ]
     },
     "execution_count": 8,
     "metadata": {},
     "output_type": "execute_result"
    }
   ],
   "source": [
    "tup[0]"
   ]
  },
  {
   "cell_type": "code",
   "execution_count": 10,
   "id": "01bcbfb3-867d-4599-92b7-5d786bec86d9",
   "metadata": {},
   "outputs": [],
   "source": [
    "nested_tup = (4, 5, 6), (8, 1)"
   ]
  },
  {
   "cell_type": "code",
   "execution_count": 12,
   "id": "9e10ac99-565b-43a3-8698-ef32b32d11c8",
   "metadata": {},
   "outputs": [
    {
     "data": {
      "text/plain": [
       "((4, 5, 6), (8, 1))"
      ]
     },
     "execution_count": 12,
     "metadata": {},
     "output_type": "execute_result"
    }
   ],
   "source": [
    "nested_tup"
   ]
  },
  {
   "cell_type": "code",
   "execution_count": 16,
   "id": "32b7c262-6fe6-45f9-a9a0-d80fbce08ebb",
   "metadata": {},
   "outputs": [
    {
     "data": {
      "text/plain": [
       "(8, 1)"
      ]
     },
     "execution_count": 16,
     "metadata": {},
     "output_type": "execute_result"
    }
   ],
   "source": [
    "nested_tup[1]"
   ]
  },
  {
   "cell_type": "code",
   "execution_count": 18,
   "id": "36277082-0355-418c-bdbf-2cda99f7c66f",
   "metadata": {},
   "outputs": [
    {
     "data": {
      "text/plain": [
       "(4, 5, 6)"
      ]
     },
     "execution_count": 18,
     "metadata": {},
     "output_type": "execute_result"
    }
   ],
   "source": [
    "nested_tup[0]"
   ]
  },
  {
   "cell_type": "markdown",
   "id": "3552dec2-6fb8-4acc-bfa1-b749f6d47116",
   "metadata": {},
   "source": [
    "# Once the tuple is create it's not possible to modify which object is stored in each slot: "
   ]
  },
  {
   "cell_type": "code",
   "execution_count": 6,
   "id": "5ffdc165-61f6-4e35-ab60-1e86a9e4821a",
   "metadata": {},
   "outputs": [
    {
     "ename": "TypeError",
     "evalue": "'tuple' object does not support item assignment",
     "output_type": "error",
     "traceback": [
      "\u001b[1;31m---------------------------------------------------------------------------\u001b[0m",
      "\u001b[1;31mTypeError\u001b[0m                                 Traceback (most recent call last)",
      "Cell \u001b[1;32mIn[6], line 3\u001b[0m\n\u001b[0;32m      1\u001b[0m tup \u001b[38;5;241m=\u001b[39m \u001b[38;5;28mtuple\u001b[39m([\u001b[38;5;124m'\u001b[39m\u001b[38;5;124mfoo\u001b[39m\u001b[38;5;124m'\u001b[39m, [\u001b[38;5;241m1\u001b[39m, \u001b[38;5;241m2\u001b[39m], \u001b[38;5;28;01mTrue\u001b[39;00m])\n\u001b[1;32m----> 3\u001b[0m tup[\u001b[38;5;241m2\u001b[39m] \u001b[38;5;241m=\u001b[39m \u001b[38;5;28;01mFalse\u001b[39;00m\n",
      "\u001b[1;31mTypeError\u001b[0m: 'tuple' object does not support item assignment"
     ]
    }
   ],
   "source": [
    "tup = tuple(['foo', [1, 2], True])\n",
    "\n",
    "tup[2] = False"
   ]
  },
  {
   "cell_type": "markdown",
   "id": "3603b979-618e-45fd-8926-b338e25b0c9a",
   "metadata": {},
   "source": [
    "If an object inside a tuple is mutable, such as a list, you can modify it in place \n"
   ]
  },
  {
   "cell_type": "code",
   "execution_count": 9,
   "id": "5276fc13-aec9-4f9c-b801-084d82f68d3f",
   "metadata": {},
   "outputs": [
    {
     "data": {
      "text/plain": [
       "('foo', [1, 2, 3], True)"
      ]
     },
     "execution_count": 9,
     "metadata": {},
     "output_type": "execute_result"
    }
   ],
   "source": [
    "tup[1].append(3)\n",
    "\n",
    "tup"
   ]
  },
  {
   "cell_type": "markdown",
   "id": "6dbab3ce-7f96-445b-baf1-1a78e9bb60b8",
   "metadata": {},
   "source": [
    "# The + operate is useful for concatenate tuples "
   ]
  },
  {
   "cell_type": "code",
   "execution_count": 14,
   "id": "f7c9376f-0d47-4b82-b41b-1af072436801",
   "metadata": {},
   "outputs": [
    {
     "data": {
      "text/plain": [
       "(4, None, 'foo', 6, 0, 'bar')"
      ]
     },
     "execution_count": 14,
     "metadata": {},
     "output_type": "execute_result"
    }
   ],
   "source": [
    "(4, None, 'foo') + (6,0) + ('bar',)"
   ]
  },
  {
   "cell_type": "markdown",
   "id": "8958bf71-b980-4fa0-89d9-e83439721d47",
   "metadata": {},
   "source": [
    "# However Multiplying a tuple by an integer, as with lists, has the effect of concatenating that many copies of the tuples "
   ]
  },
  {
   "cell_type": "code",
   "execution_count": 17,
   "id": "b4277978-14d3-4406-aacc-207f63fa45f3",
   "metadata": {},
   "outputs": [
    {
     "data": {
      "text/plain": [
       "('foo', 'bar', 'foo', 'bar', 'foo', 'bar', 'foo', 'bar')"
      ]
     },
     "execution_count": 17,
     "metadata": {},
     "output_type": "execute_result"
    }
   ],
   "source": [
    "('foo', 'bar') * 4"
   ]
  },
  {
   "cell_type": "markdown",
   "id": "8849cace-3194-4b40-9695-6d06fa6105eb",
   "metadata": {},
   "source": [
    "# Unpackign tuple "
   ]
  },
  {
   "cell_type": "code",
   "execution_count": 24,
   "id": "65657d8e-2585-4d5f-b112-529d77dd1a0d",
   "metadata": {},
   "outputs": [
    {
     "data": {
      "text/plain": [
       "5"
      ]
     },
     "execution_count": 24,
     "metadata": {},
     "output_type": "execute_result"
    }
   ],
   "source": [
    "tup = (4, 5, 6)\n",
    "\n",
    "a, b, c = tup\n",
    "\n",
    "b"
   ]
  },
  {
   "cell_type": "code",
   "execution_count": 26,
   "id": "5527d638-369e-4fbe-a527-582a25e7f36a",
   "metadata": {},
   "outputs": [
    {
     "data": {
      "text/plain": [
       "6"
      ]
     },
     "execution_count": 26,
     "metadata": {},
     "output_type": "execute_result"
    }
   ],
   "source": [
    "c"
   ]
  },
  {
   "cell_type": "code",
   "execution_count": 28,
   "id": "d3938bc6-b289-42f7-87fc-35770523894f",
   "metadata": {},
   "outputs": [
    {
     "data": {
      "text/plain": [
       "4"
      ]
     },
     "execution_count": 28,
     "metadata": {},
     "output_type": "execute_result"
    }
   ],
   "source": [
    "a"
   ]
  },
  {
   "cell_type": "markdown",
   "id": "949be3d1-7ec4-49b5-9200-8b209e08b194",
   "metadata": {},
   "source": [
    "# We can even unpack sequence with nested tuples \n"
   ]
  },
  {
   "cell_type": "code",
   "execution_count": 31,
   "id": "20ff763f-6499-4976-81a3-d7725159ef7a",
   "metadata": {},
   "outputs": [
    {
     "data": {
      "text/plain": [
       "7"
      ]
     },
     "execution_count": 31,
     "metadata": {},
     "output_type": "execute_result"
    }
   ],
   "source": [
    "tup = 4, 5, (6, 7)\n",
    "\n",
    "a, b, (c, d) = tup\n",
    "\n",
    "d"
   ]
  },
  {
   "cell_type": "markdown",
   "id": "80280140-5881-41eb-9588-f1f5119fea6e",
   "metadata": {},
   "source": [
    "# From there we can use the functionality to swap variable names"
   ]
  },
  {
   "cell_type": "code",
   "execution_count": 34,
   "id": "3b110ff0-3144-44ed-8abd-9a4347e60926",
   "metadata": {},
   "outputs": [],
   "source": [
    "tmp = a \n",
    "\n",
    "a = b\n",
    "\n",
    "b = tmp"
   ]
  },
  {
   "cell_type": "code",
   "execution_count": 36,
   "id": "f2247bb7-d02f-4134-b511-e590beebdb26",
   "metadata": {},
   "outputs": [],
   "source": [
    "# For example swaping in python\n"
   ]
  },
  {
   "cell_type": "code",
   "execution_count": 38,
   "id": "54c07bf4-10b2-4ca8-9629-54ee017a5ed9",
   "metadata": {},
   "outputs": [
    {
     "data": {
      "text/plain": [
       "1"
      ]
     },
     "execution_count": 38,
     "metadata": {},
     "output_type": "execute_result"
    }
   ],
   "source": [
    "a, b = 1, 2\n",
    "\n",
    "a"
   ]
  },
  {
   "cell_type": "code",
   "execution_count": 40,
   "id": "ccb75e7e-642b-45a8-a9f2-c899fe9d1599",
   "metadata": {},
   "outputs": [
    {
     "data": {
      "text/plain": [
       "2"
      ]
     },
     "execution_count": 40,
     "metadata": {},
     "output_type": "execute_result"
    }
   ],
   "source": [
    "b"
   ]
  },
  {
   "cell_type": "code",
   "execution_count": 42,
   "id": "0a4a5120-26e8-4605-b3bd-63ec38daa2cf",
   "metadata": {},
   "outputs": [
    {
     "data": {
      "text/plain": [
       "2"
      ]
     },
     "execution_count": 42,
     "metadata": {},
     "output_type": "execute_result"
    }
   ],
   "source": [
    "b, a = a, b\n",
    "\n",
    "a"
   ]
  },
  {
   "cell_type": "code",
   "execution_count": 44,
   "id": "95132748-1d54-4f96-8ef0-c960aa3b95fd",
   "metadata": {},
   "outputs": [
    {
     "data": {
      "text/plain": [
       "1"
      ]
     },
     "execution_count": 44,
     "metadata": {},
     "output_type": "execute_result"
    }
   ],
   "source": [
    "b"
   ]
  },
  {
   "cell_type": "markdown",
   "id": "e6293f90-0b7c-4603-b108-046e4130d70b",
   "metadata": {},
   "source": [
    "# A common use of variable unpacking is iterating over sequences of tuples or lists: "
   ]
  },
  {
   "cell_type": "code",
   "execution_count": 47,
   "id": "f6e0e8dd-866c-4089-91df-b938b5add911",
   "metadata": {},
   "outputs": [
    {
     "name": "stdout",
     "output_type": "stream",
     "text": [
      "a=1, b=2, c=3\n",
      "a=4, b=5, c=6\n",
      "a=7, b=8, c=9\n"
     ]
    }
   ],
   "source": [
    "seq = [(1, 2, 3),(4, 5, 6), (7, 8, 9)]\n",
    "\n",
    "for a, b, c in seq: \n",
    "    print(f'a={a}, b={b}, c={c}')"
   ]
  },
  {
   "cell_type": "markdown",
   "id": "a19fdf7e-6769-440e-98ca-6877da252d1d",
   "metadata": {},
   "source": [
    "# Plucking using a special syntax known a *rest which is used sometimes when you want to discard values of a variable"
   ]
  },
  {
   "cell_type": "code",
   "execution_count": 10,
   "id": "2b5d6743-c2d1-4d62-a026-cf93561bab86",
   "metadata": {},
   "outputs": [
    {
     "data": {
      "text/plain": [
       "(1, 2, 3, 4, 5)"
      ]
     },
     "execution_count": 10,
     "metadata": {},
     "output_type": "execute_result"
    }
   ],
   "source": [
    "values = 1, 2, 3, 4, 5\n",
    "\n",
    "a, b, *rest = values\n",
    "\n",
    "values\n"
   ]
  },
  {
   "cell_type": "code",
   "execution_count": 12,
   "id": "b347e96d-c072-43ec-aab0-96f123e3ff14",
   "metadata": {},
   "outputs": [
    {
     "data": {
      "text/plain": [
       "1"
      ]
     },
     "execution_count": 12,
     "metadata": {},
     "output_type": "execute_result"
    }
   ],
   "source": [
    "a "
   ]
  },
  {
   "cell_type": "code",
   "execution_count": 14,
   "id": "d5a76936-4352-4e3f-b075-453e6e784760",
   "metadata": {},
   "outputs": [
    {
     "data": {
      "text/plain": [
       "2"
      ]
     },
     "execution_count": 14,
     "metadata": {},
     "output_type": "execute_result"
    }
   ],
   "source": [
    "b"
   ]
  },
  {
   "cell_type": "code",
   "execution_count": 16,
   "id": "f6c2e9e1-36f0-43d0-bb4e-2046c76d4745",
   "metadata": {},
   "outputs": [
    {
     "data": {
      "text/plain": [
       "[3, 4, 5]"
      ]
     },
     "execution_count": 16,
     "metadata": {},
     "output_type": "execute_result"
    }
   ],
   "source": [
    "rest"
   ]
  },
  {
   "cell_type": "code",
   "execution_count": null,
   "id": "dacdd900-280f-46bb-809b-d41c488e50e1",
   "metadata": {},
   "outputs": [],
   "source": []
  },
  {
   "cell_type": "markdown",
   "id": "29c42bb9-b59c-4564-ae9b-192181e0f891",
   "metadata": {},
   "source": [
    "# Tuple Methods \n",
    "\n",
    "Tuples are light on the instance of method because they cannot to modified. One useful methods applied in tuples is count, which counts the number of occurrences of value:"
   ]
  },
  {
   "cell_type": "code",
   "execution_count": 22,
   "id": "8effb3bc-286c-4202-92da-f85a52674eda",
   "metadata": {},
   "outputs": [
    {
     "data": {
      "text/plain": [
       "4"
      ]
     },
     "execution_count": 22,
     "metadata": {},
     "output_type": "execute_result"
    }
   ],
   "source": [
    "a = (1, 2, 2, 2, 3, 4, 2)\n",
    "\n",
    "a.count(2)"
   ]
  },
  {
   "cell_type": "markdown",
   "id": "ecf7effc-6dcf-4464-9dc7-6e6f0a02083d",
   "metadata": {},
   "source": [
    "# List\n",
    "\n",
    "Unlike tuples, list is mutable, you can modify the lengths of the variable including their contents. You define list using [] brackets. "
   ]
  },
  {
   "cell_type": "code",
   "execution_count": 4,
   "id": "2d1df8c6-57e4-44a2-ae40-9bc49a802044",
   "metadata": {},
   "outputs": [
    {
     "data": {
      "text/plain": [
       "['foo', 'bar', 'baz']"
      ]
     },
     "execution_count": 4,
     "metadata": {},
     "output_type": "execute_result"
    }
   ],
   "source": [
    "a_list = [2, 3, 7, None]\n",
    "\n",
    "tup = ('foo', 'bar', 'baz')\n",
    "\n",
    "b_list = list(tup)\n",
    "\n",
    "b_list\n"
   ]
  },
  {
   "cell_type": "code",
   "execution_count": 8,
   "id": "6e30f819-e912-45a1-85a0-3a13cba69465",
   "metadata": {},
   "outputs": [],
   "source": [
    "b_list[1] = 'peekaboo'"
   ]
  },
  {
   "cell_type": "code",
   "execution_count": 10,
   "id": "1b814fa3-cc2e-46c2-84cc-3222bdbf5c8e",
   "metadata": {},
   "outputs": [
    {
     "data": {
      "text/plain": [
       "['foo', 'peekaboo', 'baz']"
      ]
     },
     "execution_count": 10,
     "metadata": {},
     "output_type": "execute_result"
    }
   ],
   "source": [
    "b_list"
   ]
  },
  {
   "cell_type": "markdown",
   "id": "29114e67-4f4c-46fe-ba31-7df6f47aaf3a",
   "metadata": {},
   "source": [
    "# List built-in function is commonly utilized in processing data as a way to materilize an iterator or generator expression: "
   ]
  },
  {
   "cell_type": "code",
   "execution_count": 32,
   "id": "cde441a0-b7da-4403-8b2d-ae08e4338145",
   "metadata": {},
   "outputs": [
    {
     "data": {
      "text/plain": [
       "range(0, 10)"
      ]
     },
     "execution_count": 32,
     "metadata": {},
     "output_type": "execute_result"
    }
   ],
   "source": [
    "gen = range (10)\n",
    "\n",
    "gen"
   ]
  },
  {
   "cell_type": "code",
   "execution_count": 34,
   "id": "c9bf4e0b-21b8-4d05-962b-39205ede620a",
   "metadata": {},
   "outputs": [
    {
     "data": {
      "text/plain": [
       "[0, 1, 2, 3, 4, 5, 6, 7, 8, 9]"
      ]
     },
     "execution_count": 34,
     "metadata": {},
     "output_type": "execute_result"
    }
   ],
   "source": [
    "list(gen)"
   ]
  },
  {
   "cell_type": "markdown",
   "id": "f0b070cd-98bc-4d9d-bc56-9a058a9cf673",
   "metadata": {},
   "source": [
    "# Adding and removing elements "
   ]
  },
  {
   "cell_type": "code",
   "execution_count": 12,
   "id": "675d599e-bf56-40ed-9b87-acdabe799212",
   "metadata": {},
   "outputs": [
    {
     "data": {
      "text/plain": [
       "['foo', 'peekaboo', 'baz', 'dwarf']"
      ]
     },
     "execution_count": 12,
     "metadata": {},
     "output_type": "execute_result"
    }
   ],
   "source": [
    "# Using append methods to add elements to the end of lists \n",
    "\n",
    "b_list.append('dwarf')\n",
    "\n",
    "b_list\n"
   ]
  },
  {
   "cell_type": "markdown",
   "id": "ab08adf2-7805-41d7-a6ba-22e4fe350f00",
   "metadata": {},
   "source": [
    "# You can use insert method to place an element at a specific location in the list: "
   ]
  },
  {
   "cell_type": "code",
   "execution_count": 14,
   "id": "60c4ee77-dfd9-46b8-a88e-17642ba7a652",
   "metadata": {},
   "outputs": [
    {
     "data": {
      "text/plain": [
       "['foo', 'red', 'peekaboo', 'baz', 'dwarf']"
      ]
     },
     "execution_count": 14,
     "metadata": {},
     "output_type": "execute_result"
    }
   ],
   "source": [
    "b_list.insert(1, 'red')\n",
    "\n",
    "b_list"
   ]
  },
  {
   "cell_type": "code",
   "execution_count": 16,
   "id": "4d1f4fde-4dc6-4283-89e7-97a61fc6a9f8",
   "metadata": {},
   "outputs": [
    {
     "data": {
      "text/plain": [
       "'peekaboo'"
      ]
     },
     "execution_count": 16,
     "metadata": {},
     "output_type": "execute_result"
    }
   ],
   "source": [
    "b_list.pop(2)\n"
   ]
  },
  {
   "cell_type": "code",
   "execution_count": 18,
   "id": "fdc95df0-f2c5-45fe-b5a1-eb90a076d99a",
   "metadata": {},
   "outputs": [
    {
     "data": {
      "text/plain": [
       "['foo', 'red', 'baz', 'dwarf']"
      ]
     },
     "execution_count": 18,
     "metadata": {},
     "output_type": "execute_result"
    }
   ],
   "source": [
    "b_list"
   ]
  },
  {
   "cell_type": "markdown",
   "id": "40c603c0-e44a-40c3-86cf-87a8bbdbd6b5",
   "metadata": {},
   "source": [
    "# Element can be removed by value with remove, which locates the first value and remove it from the list:"
   ]
  },
  {
   "cell_type": "code",
   "execution_count": 23,
   "id": "589c5174-1ebd-45b1-a7e7-8a5ad4a42577",
   "metadata": {},
   "outputs": [
    {
     "data": {
      "text/plain": [
       "['foo', 'red', 'baz', 'dwarf', 'foo', 'foo']"
      ]
     },
     "execution_count": 23,
     "metadata": {},
     "output_type": "execute_result"
    }
   ],
   "source": [
    "b_list.append('foo')\n",
    "\n",
    "b_list"
   ]
  },
  {
   "cell_type": "code",
   "execution_count": 27,
   "id": "fb929ba7-81ac-4aae-aca9-371a8a7ee5eb",
   "metadata": {},
   "outputs": [
    {
     "data": {
      "text/plain": [
       "['red', 'baz', 'dwarf', 'foo']"
      ]
     },
     "execution_count": 27,
     "metadata": {},
     "output_type": "execute_result"
    }
   ],
   "source": [
    "b_list.remove('foo')\n",
    "\n",
    "b_list"
   ]
  },
  {
   "cell_type": "markdown",
   "id": "a71aaf6e-cc9d-4486-a735-6bc4ee38fbcf",
   "metadata": {},
   "source": [
    "# Check a list contain a value using the in keyword: "
   ]
  },
  {
   "cell_type": "code",
   "execution_count": 30,
   "id": "896567f4-13db-4064-a21d-3343e690d03f",
   "metadata": {},
   "outputs": [
    {
     "data": {
      "text/plain": [
       "True"
      ]
     },
     "execution_count": 30,
     "metadata": {},
     "output_type": "execute_result"
    }
   ],
   "source": [
    "'dwarf' in b_list"
   ]
  },
  {
   "cell_type": "markdown",
   "id": "7ad238af-2f85-4656-b71f-321e50b4c834",
   "metadata": {},
   "source": [
    "# The keyword not can be used to negate in: "
   ]
  },
  {
   "cell_type": "code",
   "execution_count": 33,
   "id": "f7fef9c0-0427-44b2-8560-42573b7f17dd",
   "metadata": {},
   "outputs": [
    {
     "data": {
      "text/plain": [
       "False"
      ]
     },
     "execution_count": 33,
     "metadata": {},
     "output_type": "execute_result"
    }
   ],
   "source": [
    "'dwarf' not in b_list"
   ]
  },
  {
   "cell_type": "markdown",
   "id": "1871c44c-4761-4662-af08-47c628b11a83",
   "metadata": {},
   "source": [
    "# Concatenating and combining lists:\n",
    "\n",
    "Similar to tuples using plus (+) to add two list together concatenate them"
   ]
  },
  {
   "cell_type": "code",
   "execution_count": 3,
   "id": "2a7cd1f7-d482-4669-99cf-dd08fb568752",
   "metadata": {},
   "outputs": [
    {
     "data": {
      "text/plain": [
       "[4, None, 'foo', 7, 8, (2, 3)]"
      ]
     },
     "execution_count": 3,
     "metadata": {},
     "output_type": "execute_result"
    }
   ],
   "source": [
    "[4, None, 'foo'] + [7, 8, (2, 3)]"
   ]
  },
  {
   "cell_type": "markdown",
   "id": "677d5c62-22f1-4ca5-8281-72dd398791d0",
   "metadata": {},
   "source": [
    "# You can also use extend method to add multiple/append element together:"
   ]
  },
  {
   "cell_type": "code",
   "execution_count": 6,
   "id": "92245dd4-8a6b-4452-afc7-759a3922ac87",
   "metadata": {},
   "outputs": [
    {
     "data": {
      "text/plain": [
       "[4, None, 'foo', 7, 8, (2, 3)]"
      ]
     },
     "execution_count": 6,
     "metadata": {},
     "output_type": "execute_result"
    }
   ],
   "source": [
    "x = [4, None, 'foo']\n",
    "\n",
    "x.extend([7, 8, (2, 3)])\n",
    "\n",
    "x"
   ]
  },
  {
   "cell_type": "markdown",
   "id": "b47d9b2a-ffea-4ab0-8aa3-dee9c63ec5c7",
   "metadata": {},
   "source": [
    "# Avoid using addition when concatenating a list because it demands that a new list be created and copied over. Instead, use the extend method to build a new large list\n",
    "\n",
    "e.g \n",
    "\n",
    "everythin = []\n",
    "for chunk in list_of_lists:\n",
    "    everything.extend(chunk)\n",
    "\n",
    "# is much faster compared to concatenative alternative\n",
    "\n",
    "everything = []\n",
    "for chunk in list_of_lists:\n",
    "    everything = everything + chunk"
   ]
  },
  {
   "cell_type": "markdown",
   "id": "4d37de32-378b-443c-add4-98538e8d113a",
   "metadata": {},
   "source": [
    "# SORTING"
   ]
  },
  {
   "cell_type": "markdown",
   "id": "ca9f45a6-dcf1-4be3-bd06-5c34acb0a629",
   "metadata": {},
   "source": [
    "Using a sort function you can call a list to sort it:"
   ]
  },
  {
   "cell_type": "code",
   "execution_count": 19,
   "id": "ea5f3f28-6c1b-4955-958d-0e516e8d3854",
   "metadata": {},
   "outputs": [
    {
     "data": {
      "text/plain": [
       "[1, 2, 3, 5, 7]"
      ]
     },
     "execution_count": 19,
     "metadata": {},
     "output_type": "execute_result"
    }
   ],
   "source": [
    "a = [7, 2, 5, 1, 3]\n",
    "\n",
    "a.sort()\n",
    "\n",
    "a"
   ]
  },
  {
   "cell_type": "code",
   "execution_count": 21,
   "id": "d798fc79-d002-40dc-8bce-e1ee577018ab",
   "metadata": {},
   "outputs": [
    {
     "data": {
      "text/plain": [
       "['He', 'six', 'Hello', 'Jambo Kenya', 'Hakuna matata']"
      ]
     },
     "execution_count": 21,
     "metadata": {},
     "output_type": "execute_result"
    }
   ],
   "source": [
    "# Passing a secondary sort key function to produce a value to use to sort the objects: \n",
    "\n",
    "\n",
    "b = ['Hello', 'Jambo Kenya', 'Hakuna matata', 'He', 'six']\n",
    "\n",
    "b.sort(key=len)\n",
    "\n",
    "b"
   ]
  },
  {
   "cell_type": "markdown",
   "id": "f2314d5b-85cd-4177-8456-75e06f710173",
   "metadata": {},
   "source": [
    "# Slicing  \n",
    "\n",
    "You can select sections of most sequence types using slice notation, whihc in its basic form consist of start: stop passed to the indexing operator []:"
   ]
  },
  {
   "cell_type": "code",
   "execution_count": 2,
   "id": "01e9606e-c613-49eb-8cd9-c2ed79a8e100",
   "metadata": {},
   "outputs": [
    {
     "data": {
      "text/plain": [
       "[2, 3, 7, 5]"
      ]
     },
     "execution_count": 2,
     "metadata": {},
     "output_type": "execute_result"
    }
   ],
   "source": [
    "seq = [7, 2, 3, 7, 5, 6, 0, 1]\n",
    "\n",
    "seq[1:5]\n"
   ]
  },
  {
   "cell_type": "code",
   "execution_count": 4,
   "id": "d7685a70-69f9-4eae-ac11-b68c0821d9a4",
   "metadata": {},
   "outputs": [
    {
     "data": {
      "text/plain": [
       "[7, 2, 3, 6, 3, 6, 0, 1]"
      ]
     },
     "execution_count": 4,
     "metadata": {},
     "output_type": "execute_result"
    }
   ],
   "source": [
    "seq[3:5] = [6, 3]\n",
    "\n",
    "seq"
   ]
  },
  {
   "cell_type": "code",
   "execution_count": 6,
   "id": "64bdfabc-b163-493f-aa57-a10fc18c0a10",
   "metadata": {},
   "outputs": [
    {
     "data": {
      "text/plain": [
       "[7, 2, 3, 6, 3]"
      ]
     },
     "execution_count": 6,
     "metadata": {},
     "output_type": "execute_result"
    }
   ],
   "source": [
    "seq[:5]"
   ]
  },
  {
   "cell_type": "code",
   "execution_count": 8,
   "id": "ff29e5df-abbb-41af-9129-1a5b1668bd2a",
   "metadata": {},
   "outputs": [
    {
     "data": {
      "text/plain": [
       "[6, 3, 6, 0, 1]"
      ]
     },
     "execution_count": 8,
     "metadata": {},
     "output_type": "execute_result"
    }
   ],
   "source": [
    "seq[3:]"
   ]
  },
  {
   "cell_type": "code",
   "execution_count": 10,
   "id": "9c053524-6cfd-4412-9ecd-6a5e75eb0418",
   "metadata": {},
   "outputs": [
    {
     "data": {
      "text/plain": [
       "[3, 6, 0, 1]"
      ]
     },
     "execution_count": 10,
     "metadata": {},
     "output_type": "execute_result"
    }
   ],
   "source": [
    "seq[-4:]"
   ]
  },
  {
   "cell_type": "code",
   "execution_count": 12,
   "id": "dec90482-ad28-4388-86de-077bead940c8",
   "metadata": {},
   "outputs": [
    {
     "data": {
      "text/plain": [
       "[3, 6, 3, 6]"
      ]
     },
     "execution_count": 12,
     "metadata": {},
     "output_type": "execute_result"
    }
   ],
   "source": [
    "seq[-6:-2]"
   ]
  },
  {
   "cell_type": "markdown",
   "id": "4167744e-80fe-4977-9f4b-2865ecba2d7d",
   "metadata": {},
   "source": [
    "# SLICING SEMANTINCS \n",
    "\n",
    "\n",
    "Illustration of slicing using positive and negative integers using the below example \n",
    "\n",
    "   H  E  L  L  O  !\n",
    "   0  1  2  3  4  5 --> Positive slicing \n",
    "  -6 -5 -4 -3 -2 -1 ---> Negative slicing \n",
    "\n",
    "# Positive slicing\n",
    "Example;\n",
    "- string[4:2]\n",
    "\n",
    "- The lower value are the index starting at 0 and proceeding onward. \n",
    "- In the above expample when slicing using string[2:4]\n",
    "- You will starting counting 1, 2 (POSITIVE SLICING)and from the third value of the index values as shown in the example above and start slicing from L(2) to stop at L(3) which is the 4 depicted in the slicing sequences.\n",
    "- So here we slice the LL in word above.\n",
    "\n",
    "# Negative Slicing \n",
    "Example; \n",
    "- string[-5:-2]\n",
    "\n",
    "- Using negative value the last value in the sequence is the -1 value, where you start counting to obtain the start value which represented by the the -5(E) and proceed to stop at -2 (O). \n",
    "- So here we slice ELL from the word  above\n",
    "  "
   ]
  },
  {
   "cell_type": "code",
   "execution_count": null,
   "id": "86c87fbb-6004-49ce-a702-3b2d710c9d26",
   "metadata": {},
   "outputs": [],
   "source": []
  }
 ],
 "metadata": {
  "kernelspec": {
   "display_name": "Python [conda env:base] *",
   "language": "python",
   "name": "conda-base-py"
  },
  "language_info": {
   "codemirror_mode": {
    "name": "ipython",
    "version": 3
   },
   "file_extension": ".py",
   "mimetype": "text/x-python",
   "name": "python",
   "nbconvert_exporter": "python",
   "pygments_lexer": "ipython3",
   "version": "3.11.7"
  }
 },
 "nbformat": 4,
 "nbformat_minor": 5
}
