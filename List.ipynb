{
 "cells": [
  {
   "cell_type": "markdown",
   "id": "cb1ca7b6-2d07-494a-9773-fe141d0b9b4f",
   "metadata": {},
   "source": [
    "**List in python is ordered series of values.** Examples below "
   ]
  },
  {
   "cell_type": "markdown",
   "id": "0ad92386-687e-48c6-8a53-82879a2f7870",
   "metadata": {},
   "source": [
    "prime = [2, 3, 5, 7]\n",
    "print(prime)"
   ]
  },
  {
   "cell_type": "code",
   "execution_count": 5,
   "id": "b1c043f7-1276-4838-ba55-72475a7d5b2a",
   "metadata": {},
   "outputs": [
    {
     "name": "stdout",
     "output_type": "stream",
     "text": [
      "['Mercury', 'Venus', 'Earth', 'Mars', 'Jupiter', 'Saturn', 'Uranus', 'Neptune']\n"
     ]
    }
   ],
   "source": [
    "planets = ['Mercury', 'Venus', 'Earth', 'Mars', 'Jupiter', 'Saturn', 'Uranus', 'Neptune']\n",
    "print(planets)"
   ]
  },
  {
   "cell_type": "code",
   "execution_count": 10,
   "id": "21b115ef-f710-4d29-9568-b42915caea26",
   "metadata": {},
   "outputs": [
    {
     "name": "stdout",
     "output_type": "stream",
     "text": [
      "[['Mercede', 'Range', 'Lexus'], ['Scania', 'Bedford', 'Tata'], ['Dirt bike', 'Ducati', 'Harley Davidson']]\n"
     ]
    }
   ],
   "source": [
    "# Making a list of lists \n",
    "# Typically, this the best method to use in this case to ensure simplicity and ease read\n",
    "\n",
    "types_of_vehicles = [\n",
    "                ['Mercede', 'Range', 'Lexus'],\n",
    "                ['Scania', 'Bedford', 'Tata'],\n",
    "                ['Dirt bike', 'Ducati', 'Harley Davidson'] # In the last element the comma is optional\n",
    "]\n",
    "\n",
    "print(types_of_vehicles)\n",
    "    "
   ]
  },
  {
   "cell_type": "code",
   "execution_count": 11,
   "id": "deab108f-9bd9-40d6-8757-1de5e4ee13dc",
   "metadata": {},
   "outputs": [
    {
     "name": "stdout",
     "output_type": "stream",
     "text": [
      "['gym', 91, Type help() for interactive help, or help(object) for help about object.]\n"
     ]
    }
   ],
   "source": [
    "# An example of list with different types of variable put together\n",
    "\n",
    "my_daily_routine = [ 'gym', 91, help]\n",
    "\n",
    "print(my_daily_routine)"
   ]
  },
  {
   "cell_type": "code",
   "execution_count": 12,
   "id": "4048f3cd-8a24-4628-80fd-71a3d81b7289",
   "metadata": {},
   "outputs": [
    {
     "data": {
      "text/plain": [
       "'Mercury'"
      ]
     },
     "execution_count": 12,
     "metadata": {},
     "output_type": "execute_result"
    }
   ],
   "source": [
    "#Indexing allows you to access individual elements of the list\n",
    "# Use square brackets [] to access individual elements \n",
    "# ZERO-BASED INDEXING 1st element has index 0\n",
    "planets[0]"
   ]
  },
  {
   "cell_type": "code",
   "execution_count": 13,
   "id": "3570b674-a824-4aec-86ae-0207b5d503e1",
   "metadata": {},
   "outputs": [
    {
     "data": {
      "text/plain": [
       "'Venus'"
      ]
     },
     "execution_count": 13,
     "metadata": {},
     "output_type": "execute_result"
    }
   ],
   "source": [
    "# The second closest planet \n",
    "\n",
    "planets[1]"
   ]
  },
  {
   "cell_type": "code",
   "execution_count": 18,
   "id": "d55f540c-74f8-4618-a647-4480884bb6f3",
   "metadata": {},
   "outputs": [
    {
     "data": {
      "text/plain": [
       "'Neptune'"
      ]
     },
     "execution_count": 18,
     "metadata": {},
     "output_type": "execute_result"
    }
   ],
   "source": [
    "#A Access the last element of the list we use -1 example\n",
    "\n",
    "planets[-1]"
   ]
  },
  {
   "cell_type": "code",
   "execution_count": 23,
   "id": "1a56ee27-ce00-4225-a0ad-c4d284bd880c",
   "metadata": {},
   "outputs": [
    {
     "data": {
      "text/plain": [
       "'Uranus'"
      ]
     },
     "execution_count": 23,
     "metadata": {},
     "output_type": "execute_result"
    }
   ],
   "source": [
    "planets[-2]"
   ]
  },
  {
   "cell_type": "code",
   "execution_count": 25,
   "id": "18f794a6-cdcc-4a1d-961d-cfb2642aa9c8",
   "metadata": {},
   "outputs": [
    {
     "data": {
      "text/plain": [
       "['Mercury', 'Venus', 'Earth']"
      ]
     },
     "execution_count": 25,
     "metadata": {},
     "output_type": "execute_result"
    }
   ],
   "source": [
    "# What are the first three planets \n",
    "\n",
    "planets[0:3]"
   ]
  },
  {
   "cell_type": "markdown",
   "id": "4e5734a7-04f2-47b9-83e4-7ef8b362e0be",
   "metadata": {},
   "source": [
    "planet[0:3] is a way of asking the code to slice the elements in the above example beginning from the first index up to but not including index 3 on the list.\n",
    "\n",
    "Alternatively, we can also write the code like this>>> planets[:3], which is right because we assume the slicing from 0."
   ]
  },
  {
   "cell_type": "code",
   "execution_count": 26,
   "id": "7d630273-2f63-4b58-8fa0-e85538424e06",
   "metadata": {},
   "outputs": [
    {
     "data": {
      "text/plain": [
       "['Mercury', 'Venus', 'Earth']"
      ]
     },
     "execution_count": 26,
     "metadata": {},
     "output_type": "execute_result"
    }
   ],
   "source": [
    "planets[:3]\n"
   ]
  },
  {
   "cell_type": "code",
   "execution_count": 28,
   "id": "e379f0de-e750-4846-a91b-d0e4a12c21d4",
   "metadata": {},
   "outputs": [
    {
     "data": {
      "text/plain": [
       "['Mars', 'Jupiter', 'Saturn', 'Uranus', 'Neptune']"
      ]
     },
     "execution_count": 28,
     "metadata": {},
     "output_type": "execute_result"
    }
   ],
   "source": [
    "#In this example, when leave out the end index pythons assumes it's the end of the list\n",
    "\n",
    "planets[3:]"
   ]
  },
  {
   "cell_type": "code",
   "execution_count": 30,
   "id": "9c3bba71-922e-4c6a-b4e0-502211150ef0",
   "metadata": {},
   "outputs": [
    {
     "data": {
      "text/plain": [
       "['Venus', 'Earth', 'Mars', 'Jupiter', 'Saturn', 'Uranus']"
      ]
     },
     "execution_count": 30,
     "metadata": {},
     "output_type": "execute_result"
    }
   ],
   "source": [
    "# All the planets except the first and the last\n",
    "\n",
    "planets[1:-1]"
   ]
  },
  {
   "cell_type": "code",
   "execution_count": 31,
   "id": "00eb8857-d4e3-44d0-b323-82fe3c0c9068",
   "metadata": {},
   "outputs": [
    {
     "data": {
      "text/plain": [
       "['Uranus', 'Neptune']"
      ]
     },
     "execution_count": 31,
     "metadata": {},
     "output_type": "execute_result"
    }
   ],
   "source": [
    "# The last 2 planets \n",
    "\n",
    "planets[-2:]"
   ]
  },
  {
   "cell_type": "markdown",
   "id": "32de9ba8-17ed-4858-a7d7-9690fb4d3bf7",
   "metadata": {},
   "source": [
    "# Changing list\n",
    "\n",
    "# A l Lisisre Mutable hence they can be modified\n",
    "O one way of modifying a list is to assign it to an index or slice the expression\n",
    "\n",
    "Let's rename theth 4 planet in the list with"
   ]
  },
  {
   "cell_type": "code",
   "execution_count": 38,
   "id": "d5de2143-fa98-406b-9ff0-a153528ba873",
   "metadata": {},
   "outputs": [
    {
     "data": {
      "text/plain": [
       "['Mur', 'Vee', 'Ur', 'Mars', 'Whoopy', 'Saturn', 'Uranus', 'Neptune']"
      ]
     },
     "execution_count": 38,
     "metadata": {},
     "output_type": "execute_result"
    }
   ],
   "source": [
    "planets[4] = 'Whoopy'\n",
    "planets"
   ]
  },
  {
   "cell_type": "code",
   "execution_count": 40,
   "id": "4a1c2811-1f76-4584-a5a1-213bab02d352",
   "metadata": {},
   "outputs": [
    {
     "name": "stdout",
     "output_type": "stream",
     "text": [
      "['Mur', 'Vee', 'Ur', 'Mars', 'Whoopy', 'Saturn', 'Uranus', 'Neptune']\n"
     ]
    }
   ],
   "source": [
    "# Shortening the list\n",
    "\n",
    "planets[:3] = ['Mur', 'Vee', 'Ur']\n",
    "print(planets)\n",
    "\n",
    "#We can assign them back their actual names\n",
    "planets[:4] = ['Mercury', 'Venus', 'Earth', 'Mars',]\n",
    "\n"
   ]
  },
  {
   "cell_type": "code",
   "execution_count": null,
   "id": "cd1b7fc9-79ab-4023-b207-048d62a159a5",
   "metadata": {},
   "outputs": [],
   "source": []
  },
  {
   "cell_type": "code",
   "execution_count": null,
   "id": "e252fd2b-0cca-49ca-8ae2-9f9850f77476",
   "metadata": {},
   "outputs": [],
   "source": []
  }
 ],
 "metadata": {
  "kernelspec": {
   "display_name": "Python 3 (ipykernel)",
   "language": "python",
   "name": "python3"
  },
  "language_info": {
   "codemirror_mode": {
    "name": "ipython",
    "version": 3
   },
   "file_extension": ".py",
   "mimetype": "text/x-python",
   "name": "python",
   "nbconvert_exporter": "python",
   "pygments_lexer": "ipython3",
   "version": "3.11.7"
  }
 },
 "nbformat": 4,
 "nbformat_minor": 5
}
