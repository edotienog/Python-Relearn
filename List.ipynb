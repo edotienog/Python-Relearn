{
 "cells": [
  {
   "cell_type": "markdown",
   "id": "cb1ca7b6-2d07-494a-9773-fe141d0b9b4f",
   "metadata": {},
   "source": [
    "# List in python is ordered series of values.\n",
    "# Examples below "
   ]
  },
  {
   "cell_type": "markdown",
   "id": "0ad92386-687e-48c6-8a53-82879a2f7870",
   "metadata": {},
   "source": [
    "prime = [2, 3, 5, 7]\n",
    "print(prime)"
   ]
  },
  {
   "cell_type": "code",
   "execution_count": 2,
   "id": "b1c043f7-1276-4838-ba55-72475a7d5b2a",
   "metadata": {},
   "outputs": [
    {
     "name": "stdout",
     "output_type": "stream",
     "text": [
      "['Mercury', 'Venus', 'Earth', 'Mars', 'Jupiter', 'Saturn', 'Uranus', 'Neptune']\n"
     ]
    }
   ],
   "source": [
    "planets = ['Mercury', 'Venus', 'Earth', 'Mars', 'Jupiter', 'Saturn', 'Uranus', 'Neptune']\n",
    "print(planets)"
   ]
  },
  {
   "cell_type": "code",
   "execution_count": 10,
   "id": "21b115ef-f710-4d29-9568-b42915caea26",
   "metadata": {},
   "outputs": [
    {
     "name": "stdout",
     "output_type": "stream",
     "text": [
      "[['Mercede', 'Range', 'Lexus'], ['Scania', 'Bedford', 'Tata'], ['Dirt bike', 'Ducati', 'Harley Davidson']]\n"
     ]
    }
   ],
   "source": [
    "# Making a list of lists \n",
    "# Typically, this the best method to use in this case to ensure simplicity and ease read\n",
    "\n",
    "types_of_vehicles = [\n",
    "                ['Mercede', 'Range', 'Lexus'],\n",
    "                ['Scania', 'Bedford', 'Tata'],\n",
    "                ['Dirt bike', 'Ducati', 'Harley Davidson'] # In the last element the comma is optional\n",
    "]\n",
    "\n",
    "print(types_of_vehicles)\n",
    "    "
   ]
  },
  {
   "cell_type": "code",
   "execution_count": 11,
   "id": "deab108f-9bd9-40d6-8757-1de5e4ee13dc",
   "metadata": {},
   "outputs": [
    {
     "name": "stdout",
     "output_type": "stream",
     "text": [
      "['gym', 91, Type help() for interactive help, or help(object) for help about object.]\n"
     ]
    }
   ],
   "source": [
    "# An example of list with different types of variable put together\n",
    "\n",
    "my_daily_routine = [ 'gym', 91, help]\n",
    "\n",
    "print(my_daily_routine)"
   ]
  },
  {
   "cell_type": "code",
   "execution_count": 12,
   "id": "4048f3cd-8a24-4628-80fd-71a3d81b7289",
   "metadata": {},
   "outputs": [
    {
     "data": {
      "text/plain": [
       "'Mercury'"
      ]
     },
     "execution_count": 12,
     "metadata": {},
     "output_type": "execute_result"
    }
   ],
   "source": [
    "#Indexing allows you to access individual elements of the list\n",
    "# Use square brackets [] to access individual elements \n",
    "# ZERO-BASED INDEXING 1st element has index 0\n",
    "planets[0]"
   ]
  },
  {
   "cell_type": "code",
   "execution_count": 13,
   "id": "3570b674-a824-4aec-86ae-0207b5d503e1",
   "metadata": {},
   "outputs": [
    {
     "data": {
      "text/plain": [
       "'Venus'"
      ]
     },
     "execution_count": 13,
     "metadata": {},
     "output_type": "execute_result"
    }
   ],
   "source": [
    "# The second closest planet \n",
    "\n",
    "planets[1]"
   ]
  },
  {
   "cell_type": "code",
   "execution_count": 18,
   "id": "d55f540c-74f8-4618-a647-4480884bb6f3",
   "metadata": {},
   "outputs": [
    {
     "data": {
      "text/plain": [
       "'Neptune'"
      ]
     },
     "execution_count": 18,
     "metadata": {},
     "output_type": "execute_result"
    }
   ],
   "source": [
    "#A Access the last element of the list we use -1 example\n",
    "\n",
    "planets[-1]"
   ]
  },
  {
   "cell_type": "code",
   "execution_count": 23,
   "id": "1a56ee27-ce00-4225-a0ad-c4d284bd880c",
   "metadata": {},
   "outputs": [
    {
     "data": {
      "text/plain": [
       "'Uranus'"
      ]
     },
     "execution_count": 23,
     "metadata": {},
     "output_type": "execute_result"
    }
   ],
   "source": [
    "planets[-2]"
   ]
  },
  {
   "cell_type": "code",
   "execution_count": 25,
   "id": "18f794a6-cdcc-4a1d-961d-cfb2642aa9c8",
   "metadata": {},
   "outputs": [
    {
     "data": {
      "text/plain": [
       "['Mercury', 'Venus', 'Earth']"
      ]
     },
     "execution_count": 25,
     "metadata": {},
     "output_type": "execute_result"
    }
   ],
   "source": [
    "# What are the first three planets \n",
    "\n",
    "planets[0:3]"
   ]
  },
  {
   "cell_type": "markdown",
   "id": "4e5734a7-04f2-47b9-83e4-7ef8b362e0be",
   "metadata": {},
   "source": [
    "planet[0:3] is a way of asking the code to slice the elements in the above example beginning from the first index up to but not including index 3 on the list.\n",
    "\n",
    "Alternatively, we can also write the code like this>>> planets[:3], which is right because we assume the slicing from 0."
   ]
  },
  {
   "cell_type": "code",
   "execution_count": 26,
   "id": "7d630273-2f63-4b58-8fa0-e85538424e06",
   "metadata": {},
   "outputs": [
    {
     "data": {
      "text/plain": [
       "['Mercury', 'Venus', 'Earth']"
      ]
     },
     "execution_count": 26,
     "metadata": {},
     "output_type": "execute_result"
    }
   ],
   "source": [
    "planets[:3]\n"
   ]
  },
  {
   "cell_type": "code",
   "execution_count": 28,
   "id": "e379f0de-e750-4846-a91b-d0e4a12c21d4",
   "metadata": {},
   "outputs": [
    {
     "data": {
      "text/plain": [
       "['Mars', 'Jupiter', 'Saturn', 'Uranus', 'Neptune']"
      ]
     },
     "execution_count": 28,
     "metadata": {},
     "output_type": "execute_result"
    }
   ],
   "source": [
    "#In this example, when leave out the end index pythons assumes it's the end of the list\n",
    "\n",
    "planets[3:]"
   ]
  },
  {
   "cell_type": "code",
   "execution_count": 30,
   "id": "9c3bba71-922e-4c6a-b4e0-502211150ef0",
   "metadata": {},
   "outputs": [
    {
     "data": {
      "text/plain": [
       "['Venus', 'Earth', 'Mars', 'Jupiter', 'Saturn', 'Uranus']"
      ]
     },
     "execution_count": 30,
     "metadata": {},
     "output_type": "execute_result"
    }
   ],
   "source": [
    "# All the planets except the first and the last\n",
    "\n",
    "planets[1:-1]"
   ]
  },
  {
   "cell_type": "code",
   "execution_count": 31,
   "id": "00eb8857-d4e3-44d0-b323-82fe3c0c9068",
   "metadata": {},
   "outputs": [
    {
     "data": {
      "text/plain": [
       "['Uranus', 'Neptune']"
      ]
     },
     "execution_count": 31,
     "metadata": {},
     "output_type": "execute_result"
    }
   ],
   "source": [
    "# The last 2 planets \n",
    "\n",
    "planets[-2:]"
   ]
  },
  {
   "cell_type": "markdown",
   "id": "32de9ba8-17ed-4858-a7d7-9690fb4d3bf7",
   "metadata": {},
   "source": [
    "# Changing list\n",
    "\n",
    "# A List is Mutable they can be modified\n",
    "One way of modifying a list is to assign it to an index or slice the expression\n",
    "\n",
    "Let's rename the 4 planet in the list with"
   ]
  },
  {
   "cell_type": "code",
   "execution_count": 38,
   "id": "d5de2143-fa98-406b-9ff0-a153528ba873",
   "metadata": {},
   "outputs": [
    {
     "data": {
      "text/plain": [
       "['Mur', 'Vee', 'Ur', 'Mars', 'Whoopy', 'Saturn', 'Uranus', 'Neptune']"
      ]
     },
     "execution_count": 38,
     "metadata": {},
     "output_type": "execute_result"
    }
   ],
   "source": [
    "planets[4] = 'Whoopy'\n",
    "planets"
   ]
  },
  {
   "cell_type": "code",
   "execution_count": 40,
   "id": "4a1c2811-1f76-4584-a5a1-213bab02d352",
   "metadata": {},
   "outputs": [
    {
     "name": "stdout",
     "output_type": "stream",
     "text": [
      "['Mur', 'Vee', 'Ur', 'Mars', 'Whoopy', 'Saturn', 'Uranus', 'Neptune']\n"
     ]
    }
   ],
   "source": [
    "# Shortening the list\n",
    "\n",
    "planets[:3] = ['Mur', 'Vee', 'Ur']\n",
    "print(planets)\n",
    "\n",
    "#We can assign them back their actual names\n",
    "planets[:4] = ['Mercury', 'Venus', 'Earth', 'Mars',]\n",
    "\n"
   ]
  },
  {
   "cell_type": "markdown",
   "id": "fc1fe9c1-c5c9-4ea7-835f-9b90cfa76ced",
   "metadata": {},
   "source": [
    "# LIST FUNCTIONS "
   ]
  },
  {
   "cell_type": "code",
   "execution_count": 8,
   "id": "e252fd2b-0cca-49ca-8ae2-9f9850f77476",
   "metadata": {},
   "outputs": [
    {
     "data": {
      "text/plain": [
       "8"
      ]
     },
     "execution_count": 8,
     "metadata": {},
     "output_type": "execute_result"
    }
   ],
   "source": [
    "# The function len gives the length of the list \n",
    "# How many planets are in the list above\n",
    "len(planets)"
   ]
  },
  {
   "cell_type": "code",
   "execution_count": 9,
   "id": "806dd58e-d62a-46d5-befe-641e8f64c940",
   "metadata": {},
   "outputs": [
    {
     "data": {
      "text/plain": [
       "['Earth', 'Jupiter', 'Mars', 'Mercury', 'Neptune', 'Saturn', 'Uranus', 'Venus']"
      ]
     },
     "execution_count": 9,
     "metadata": {},
     "output_type": "execute_result"
    }
   ],
   "source": [
    "# Sorted return the sorted version of the list: \n",
    "# The Planets sorted in alphabetical order \n",
    "sorted(planets)"
   ]
  },
  {
   "cell_type": "code",
   "execution_count": 12,
   "id": "adc22f76-0126-4d66-8562-d68d479ab94c",
   "metadata": {},
   "outputs": [
    {
     "data": {
      "text/plain": [
       "17"
      ]
     },
     "execution_count": 12,
     "metadata": {},
     "output_type": "execute_result"
    }
   ],
   "source": [
    "# Sum function for addition\n",
    "primes = [2, 3, 5, 7]\n",
    "sum(primes)"
   ]
  },
  {
   "cell_type": "code",
   "execution_count": 13,
   "id": "b7ed62f2-1c83-444b-aa0b-1fb692a0f83a",
   "metadata": {},
   "outputs": [
    {
     "data": {
      "text/plain": [
       "7"
      ]
     },
     "execution_count": 13,
     "metadata": {},
     "output_type": "execute_result"
    }
   ],
   "source": [
    "max(primes)"
   ]
  },
  {
   "cell_type": "markdown",
   "id": "4deb2655-a768-433d-a5c4-a89854ce6235",
   "metadata": {},
   "source": [
    "# Interlude: Objects\n",
    "Objects carry things inside them. The best way to access them is using the dot(.) syntax"
   ]
  },
  {
   "cell_type": "code",
   "execution_count": 15,
   "id": "5806f1d1-ec81-4b85-93b2-83d8a4245252",
   "metadata": {},
   "outputs": [
    {
     "name": "stdout",
     "output_type": "stream",
     "text": [
      "0\n"
     ]
    }
   ],
   "source": [
    "x = 12 \n",
    "\n",
    "#x is a real number, so its imaginary part is 0.\n",
    "print(x.imag)\n"
   ]
  },
  {
   "cell_type": "code",
   "execution_count": 18,
   "id": "26c201a6-87c8-4f3a-88cc-cff70edc0957",
   "metadata": {},
   "outputs": [
    {
     "name": "stdout",
     "output_type": "stream",
     "text": [
      "3.0\n"
     ]
    }
   ],
   "source": [
    "# Using a complex number for example, \n",
    "c = 12 + 3j \n",
    "print(c.imag)"
   ]
  },
  {
   "cell_type": "markdown",
   "id": "e2b5d72e-7371-485f-998d-c882a700f639",
   "metadata": {},
   "source": [
    "# The things object carry around can include function \n",
    "# A function attached to an object is known as a Method\n",
    "In the example the imag is called an attribute"
   ]
  },
  {
   "cell_type": "code",
   "execution_count": 19,
   "id": "aebe68f3-fd2e-4d4e-82d3-4c0b1e9df687",
   "metadata": {},
   "outputs": [
    {
     "data": {
      "text/plain": [
       "<function int.bit_length()>"
      ]
     },
     "execution_count": 19,
     "metadata": {},
     "output_type": "execute_result"
    }
   ],
   "source": [
    "x.bit_length"
   ]
  },
  {
   "cell_type": "code",
   "execution_count": 20,
   "id": "1843b83d-bbe4-4c91-b465-1e335bd3a36b",
   "metadata": {},
   "outputs": [
    {
     "data": {
      "text/plain": [
       "4"
      ]
     },
     "execution_count": 20,
     "metadata": {},
     "output_type": "execute_result"
    }
   ],
   "source": [
    "# To call the above function, we add parenthesis/ brackets\n",
    "\n",
    "x.bit_length()"
   ]
  },
  {
   "cell_type": "code",
   "execution_count": 22,
   "id": "51308212-2260-42eb-98ea-15dcdd7fe743",
   "metadata": {},
   "outputs": [
    {
     "name": "stdout",
     "output_type": "stream",
     "text": [
      "Help on built-in function bit_length:\n",
      "\n",
      "bit_length() method of builtins.int instance\n",
      "    Number of bits necessary to represent self in binary.\n",
      "    \n",
      "    >>> bin(37)\n",
      "    '0b100101'\n",
      "    >>> (37).bit_length()\n",
      "    6\n",
      "\n"
     ]
    }
   ],
   "source": [
    "help(x.bit_length)"
   ]
  },
  {
   "cell_type": "code",
   "execution_count": 26,
   "id": "7bf3b11a-5076-4b3b-9184-1c2395a5faa8",
   "metadata": {},
   "outputs": [
    {
     "name": "stdout",
     "output_type": "stream",
     "text": [
      "['Mercury', 'Venus', 'Earth', 'Mars', 'Jupiter', 'Saturn', 'Uranus', 'Neptune', 'Pluto', 'Pluto']\n"
     ]
    }
   ],
   "source": [
    "# Adding Pluto to the list of the planets \n",
    "\n",
    "planets.append('Pluto')\n",
    "print(planets)"
   ]
  },
  {
   "cell_type": "code",
   "execution_count": 27,
   "id": "e6b4d340-7229-4d0f-9a5b-a77965ce8797",
   "metadata": {},
   "outputs": [
    {
     "name": "stdout",
     "output_type": "stream",
     "text": [
      "Help on built-in function append:\n",
      "\n",
      "append(object, /) method of builtins.list instance\n",
      "    Append object to the end of the list.\n",
      "\n"
     ]
    }
   ],
   "source": [
    "help(planets.append)"
   ]
  },
  {
   "cell_type": "markdown",
   "id": "aca504ca-ff0f-436e-aacc-d4bf5f9e2cdd",
   "metadata": {},
   "source": [
    "# List.pop"
   ]
  },
  {
   "cell_type": "code",
   "execution_count": 3,
   "id": "32a80256-d995-41a4-a418-f2c9b74ae914",
   "metadata": {},
   "outputs": [
    {
     "data": {
      "text/plain": [
       "'Neptune'"
      ]
     },
     "execution_count": 3,
     "metadata": {},
     "output_type": "execute_result"
    }
   ],
   "source": [
    "planets.pop()"
   ]
  },
  {
   "cell_type": "code",
   "execution_count": 4,
   "id": "433e6901-c514-47e6-ac45-be1a4b2ca2a3",
   "metadata": {},
   "outputs": [
    {
     "data": {
      "text/plain": [
       "['Mercury', 'Venus', 'Earth', 'Mars', 'Jupiter', 'Saturn', 'Uranus']"
      ]
     },
     "execution_count": 4,
     "metadata": {},
     "output_type": "execute_result"
    }
   ],
   "source": [
    "planets"
   ]
  },
  {
   "cell_type": "markdown",
   "id": "72393264-fb74-4c59-9ff1-d4945766afcf",
   "metadata": {},
   "source": [
    "# Searching lists using the list.index method"
   ]
  },
  {
   "cell_type": "code",
   "execution_count": 9,
   "id": "385f38e9-ceb3-459d-aae2-c44962fa1cfe",
   "metadata": {},
   "outputs": [
    {
     "data": {
      "text/plain": [
       "3"
      ]
     },
     "execution_count": 9,
     "metadata": {},
     "output_type": "execute_result"
    }
   ],
   "source": [
    "planets.index('Mars')"
   ]
  },
  {
   "cell_type": "code",
   "execution_count": 12,
   "id": "9fdab16f-83f0-48b0-8533-e97ec149726b",
   "metadata": {},
   "outputs": [
    {
     "ename": "ValueError",
     "evalue": "'Pluto' is not in list",
     "output_type": "error",
     "traceback": [
      "\u001b[1;31m---------------------------------------------------------------------------\u001b[0m",
      "\u001b[1;31mValueError\u001b[0m                                Traceback (most recent call last)",
      "Cell \u001b[1;32mIn[12], line 1\u001b[0m\n\u001b[1;32m----> 1\u001b[0m planets\u001b[38;5;241m.\u001b[39mindex(\u001b[38;5;124m'\u001b[39m\u001b[38;5;124mPluto\u001b[39m\u001b[38;5;124m'\u001b[39m)\n",
      "\u001b[1;31mValueError\u001b[0m: 'Pluto' is not in list"
     ]
    }
   ],
   "source": [
    "planets.index('Pluto')"
   ]
  },
  {
   "cell_type": "markdown",
   "id": "9ae15872-b256-4460-a877-89cfbcf1f929",
   "metadata": {},
   "source": [
    "# To avoid error like the above we use in operator \n",
    "\n",
    "Operator like in determine whether a list contains a particular value like in the next example below "
   ]
  },
  {
   "cell_type": "code",
   "execution_count": 11,
   "id": "dd38e008-1413-4609-8f3b-2dee7711ed8a",
   "metadata": {},
   "outputs": [
    {
     "data": {
      "text/plain": [
       "True"
      ]
     },
     "execution_count": 11,
     "metadata": {},
     "output_type": "execute_result"
    }
   ],
   "source": [
    "#Is Earth a planet?\n",
    "'Earth' in planets"
   ]
  },
  {
   "cell_type": "code",
   "execution_count": 13,
   "id": "84774ee1-369e-446f-9252-e4c58da0627d",
   "metadata": {},
   "outputs": [
    {
     "data": {
      "text/plain": [
       "False"
      ]
     },
     "execution_count": 13,
     "metadata": {},
     "output_type": "execute_result"
    }
   ],
   "source": [
    "# Is calbefraques a planet \n",
    "'Calbefraque' in planets"
   ]
  },
  {
   "cell_type": "code",
   "execution_count": 14,
   "id": "0fbca53b-4a0a-44e1-a2b2-242c2e697267",
   "metadata": {},
   "outputs": [
    {
     "name": "stdout",
     "output_type": "stream",
     "text": [
      "Help on list object:\n",
      "\n",
      "class list(object)\n",
      " |  list(iterable=(), /)\n",
      " |  \n",
      " |  Built-in mutable sequence.\n",
      " |  \n",
      " |  If no argument is given, the constructor creates a new empty list.\n",
      " |  The argument must be an iterable if specified.\n",
      " |  \n",
      " |  Methods defined here:\n",
      " |  \n",
      " |  __add__(self, value, /)\n",
      " |      Return self+value.\n",
      " |  \n",
      " |  __contains__(self, key, /)\n",
      " |      Return key in self.\n",
      " |  \n",
      " |  __delitem__(self, key, /)\n",
      " |      Delete self[key].\n",
      " |  \n",
      " |  __eq__(self, value, /)\n",
      " |      Return self==value.\n",
      " |  \n",
      " |  __ge__(self, value, /)\n",
      " |      Return self>=value.\n",
      " |  \n",
      " |  __getattribute__(self, name, /)\n",
      " |      Return getattr(self, name).\n",
      " |  \n",
      " |  __getitem__(...)\n",
      " |      x.__getitem__(y) <==> x[y]\n",
      " |  \n",
      " |  __gt__(self, value, /)\n",
      " |      Return self>value.\n",
      " |  \n",
      " |  __iadd__(self, value, /)\n",
      " |      Implement self+=value.\n",
      " |  \n",
      " |  __imul__(self, value, /)\n",
      " |      Implement self*=value.\n",
      " |  \n",
      " |  __init__(self, /, *args, **kwargs)\n",
      " |      Initialize self.  See help(type(self)) for accurate signature.\n",
      " |  \n",
      " |  __iter__(self, /)\n",
      " |      Implement iter(self).\n",
      " |  \n",
      " |  __le__(self, value, /)\n",
      " |      Return self<=value.\n",
      " |  \n",
      " |  __len__(self, /)\n",
      " |      Return len(self).\n",
      " |  \n",
      " |  __lt__(self, value, /)\n",
      " |      Return self<value.\n",
      " |  \n",
      " |  __mul__(self, value, /)\n",
      " |      Return self*value.\n",
      " |  \n",
      " |  __ne__(self, value, /)\n",
      " |      Return self!=value.\n",
      " |  \n",
      " |  __repr__(self, /)\n",
      " |      Return repr(self).\n",
      " |  \n",
      " |  __reversed__(self, /)\n",
      " |      Return a reverse iterator over the list.\n",
      " |  \n",
      " |  __rmul__(self, value, /)\n",
      " |      Return value*self.\n",
      " |  \n",
      " |  __setitem__(self, key, value, /)\n",
      " |      Set self[key] to value.\n",
      " |  \n",
      " |  __sizeof__(self, /)\n",
      " |      Return the size of the list in memory, in bytes.\n",
      " |  \n",
      " |  append(self, object, /)\n",
      " |      Append object to the end of the list.\n",
      " |  \n",
      " |  clear(self, /)\n",
      " |      Remove all items from list.\n",
      " |  \n",
      " |  copy(self, /)\n",
      " |      Return a shallow copy of the list.\n",
      " |  \n",
      " |  count(self, value, /)\n",
      " |      Return number of occurrences of value.\n",
      " |  \n",
      " |  extend(self, iterable, /)\n",
      " |      Extend list by appending elements from the iterable.\n",
      " |  \n",
      " |  index(self, value, start=0, stop=9223372036854775807, /)\n",
      " |      Return first index of value.\n",
      " |      \n",
      " |      Raises ValueError if the value is not present.\n",
      " |  \n",
      " |  insert(self, index, object, /)\n",
      " |      Insert object before index.\n",
      " |  \n",
      " |  pop(self, index=-1, /)\n",
      " |      Remove and return item at index (default last).\n",
      " |      \n",
      " |      Raises IndexError if list is empty or index is out of range.\n",
      " |  \n",
      " |  remove(self, value, /)\n",
      " |      Remove first occurrence of value.\n",
      " |      \n",
      " |      Raises ValueError if the value is not present.\n",
      " |  \n",
      " |  reverse(self, /)\n",
      " |      Reverse *IN PLACE*.\n",
      " |  \n",
      " |  sort(self, /, *, key=None, reverse=False)\n",
      " |      Sort the list in ascending order and return None.\n",
      " |      \n",
      " |      The sort is in-place (i.e. the list itself is modified) and stable (i.e. the\n",
      " |      order of two equal elements is maintained).\n",
      " |      \n",
      " |      If a key function is given, apply it once to each list item and sort them,\n",
      " |      ascending or descending, according to their function values.\n",
      " |      \n",
      " |      The reverse flag can be set to sort in descending order.\n",
      " |  \n",
      " |  ----------------------------------------------------------------------\n",
      " |  Class methods defined here:\n",
      " |  \n",
      " |  __class_getitem__(...) from builtins.type\n",
      " |      See PEP 585\n",
      " |  \n",
      " |  ----------------------------------------------------------------------\n",
      " |  Static methods defined here:\n",
      " |  \n",
      " |  __new__(*args, **kwargs) from builtins.type\n",
      " |      Create and return a new object.  See help(type) for accurate signature.\n",
      " |  \n",
      " |  ----------------------------------------------------------------------\n",
      " |  Data and other attributes defined here:\n",
      " |  \n",
      " |  __hash__ = None\n",
      "\n"
     ]
    }
   ],
   "source": [
    "help(planets)"
   ]
  },
  {
   "cell_type": "markdown",
   "id": "4f4406bb-1582-4f57-8914-233b6e068b30",
   "metadata": {},
   "source": [
    "The list contains some weird-looking names. \n",
    "\n",
    "Some methods in the list above are called behind the scenes while using syntax like indexing or comparison operators. The most interesting methods are toward the bottom, such as (append, clear, copy, etc.)"
   ]
  },
  {
   "cell_type": "code",
   "execution_count": 15,
   "id": "fcdfb949-0b33-4eb8-ae24-ffd4781ff190",
   "metadata": {},
   "outputs": [
    {
     "ename": "SyntaxError",
     "evalue": "invalid syntax (4247441075.py, line 1)",
     "output_type": "error",
     "traceback": [
      "\u001b[1;36m  Cell \u001b[1;32mIn[15], line 1\u001b[1;36m\u001b[0m\n\u001b[1;33m    count'Earth' in planets\u001b[0m\n\u001b[1;37m         ^\u001b[0m\n\u001b[1;31mSyntaxError\u001b[0m\u001b[1;31m:\u001b[0m invalid syntax\n"
     ]
    }
   ],
   "source": [
    "count'Earth' in planets"
   ]
  },
  {
   "cell_type": "code",
   "execution_count": 16,
   "id": "741b0112-1db6-4af9-9f63-9c18a0f49b61",
   "metadata": {},
   "outputs": [
    {
     "data": {
      "text/plain": [
       "1"
      ]
     },
     "execution_count": 16,
     "metadata": {},
     "output_type": "execute_result"
    }
   ],
   "source": [
    "planets.count('Earth')"
   ]
  },
  {
   "cell_type": "code",
   "execution_count": 17,
   "id": "53f42aa0-3810-4000-bdba-f65f07778ea4",
   "metadata": {},
   "outputs": [],
   "source": [
    "planets.append('Pluto')"
   ]
  },
  {
   "cell_type": "code",
   "execution_count": 18,
   "id": "60a09f5d-d16f-46a7-8a72-e51639683f2d",
   "metadata": {},
   "outputs": [
    {
     "data": {
      "text/plain": [
       "['Mercury', 'Venus', 'Earth', 'Mars', 'Jupiter', 'Saturn', 'Uranus', 'Pluto']"
      ]
     },
     "execution_count": 18,
     "metadata": {},
     "output_type": "execute_result"
    }
   ],
   "source": [
    "planets"
   ]
  },
  {
   "cell_type": "code",
   "execution_count": null,
   "id": "46523285-f49d-40b4-be6c-628477f61856",
   "metadata": {},
   "outputs": [],
   "source": []
  }
 ],
 "metadata": {
  "kernelspec": {
   "display_name": "Python 3 (ipykernel)",
   "language": "python",
   "name": "python3"
  },
  "language_info": {
   "codemirror_mode": {
    "name": "ipython",
    "version": 3
   },
   "file_extension": ".py",
   "mimetype": "text/x-python",
   "name": "python",
   "nbconvert_exporter": "python",
   "pygments_lexer": "ipython3",
   "version": "3.11.7"
  }
 },
 "nbformat": 4,
 "nbformat_minor": 5
}
